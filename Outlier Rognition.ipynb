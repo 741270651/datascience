{
 "cells": [
  {
   "cell_type": "code",
   "execution_count": 1,
   "metadata": {},
   "outputs": [],
   "source": [
    "import pandas as pd\n",
    "import seaborn as sns\n",
    "import matplotlib.pyplot as plt"
   ]
  },
  {
   "cell_type": "code",
   "execution_count": 2,
   "metadata": {
    "scrolled": true
   },
   "outputs": [],
   "source": [
    "#设置支持中文\n",
    "sns.set(style=\"whitegrid\",palette=\"muted\", color_codes=True,font='simhei',font_scale=1.2)\n",
    "\n",
    "# 设置pandas显示的小数位数，防止科学计数记号出现\n",
    "pd.options.display.float_format = '{:20,.2f}'.format"
   ]
  },
  {
   "cell_type": "code",
   "execution_count": 3,
   "metadata": {},
   "outputs": [],
   "source": [
    "pd.set_option('max_columns', 50)"
   ]
  },
  {
   "cell_type": "code",
   "execution_count": 4,
   "metadata": {},
   "outputs": [],
   "source": [
    "fy17 = pd.read_excel(r'E:\\work\\0727\\2017\\3. 5P DATA-第二陈列-2017FY.xlsx', sheet_name='database 2017YTD')"
   ]
  },
  {
   "cell_type": "code",
   "execution_count": 5,
   "metadata": {},
   "outputs": [
    {
     "data": {
      "text/html": [
       "<div>\n",
       "<style scoped>\n",
       "    .dataframe tbody tr th:only-of-type {\n",
       "        vertical-align: middle;\n",
       "    }\n",
       "\n",
       "    .dataframe tbody tr th {\n",
       "        vertical-align: top;\n",
       "    }\n",
       "\n",
       "    .dataframe thead th {\n",
       "        text-align: right;\n",
       "    }\n",
       "</style>\n",
       "<table border=\"1\" class=\"dataframe\">\n",
       "  <thead>\n",
       "    <tr style=\"text-align: right;\">\n",
       "      <th></th>\n",
       "      <th>E号</th>\n",
       "      <th>姓名</th>\n",
       "      <th>门店名称</th>\n",
       "      <th>年</th>\n",
       "      <th>月</th>\n",
       "      <th>日</th>\n",
       "      <th>大区主管</th>\n",
       "      <th>城市经理</th>\n",
       "      <th>HH同事</th>\n",
       "      <th>DSR销售代表</th>\n",
       "      <th>长促数量</th>\n",
       "      <th>区域</th>\n",
       "      <th>省份</th>\n",
       "      <th>城市</th>\n",
       "      <th>渠道信息</th>\n",
       "      <th>KA类型</th>\n",
       "      <th>门店类型</th>\n",
       "      <th>KSM门店</th>\n",
       "      <th>客户</th>\n",
       "      <th>门店编号</th>\n",
       "      <th>代理商</th>\n",
       "      <th>数据类型</th>\n",
       "      <th>金额类型</th>\n",
       "      <th>选项名称</th>\n",
       "      <th>唯一识别码</th>\n",
       "      <th>包柱数量</th>\n",
       "      <th>堆头数量</th>\n",
       "      <th>端架数量</th>\n",
       "      <th>落地架数量</th>\n",
       "      <th>挂网数量</th>\n",
       "      <th>挂条数量</th>\n",
       "      <th>长促数量.1</th>\n",
       "      <th>临促数量</th>\n",
       "      <th>常规第二陈列拍照</th>\n",
       "      <th>促销档期第二陈列拍照</th>\n",
       "      <th>提交时间</th>\n",
       "      <th>有效数据</th>\n",
       "      <th>KA分区</th>\n",
       "    </tr>\n",
       "  </thead>\n",
       "  <tbody>\n",
       "    <tr>\n",
       "      <th>0</th>\n",
       "      <td>604160</td>\n",
       "      <td>赵勇</td>\n",
       "      <td>锦州店</td>\n",
       "      <td>2017</td>\n",
       "      <td>201703</td>\n",
       "      <td>31</td>\n",
       "      <td>辽宁</td>\n",
       "      <td>吕伟</td>\n",
       "      <td>张宏伟</td>\n",
       "      <td>赵勇</td>\n",
       "      <td>0</td>\n",
       "      <td>华北</td>\n",
       "      <td>辽宁</td>\n",
       "      <td>锦州</td>\n",
       "      <td>Hypermarket</td>\n",
       "      <td>NRKA</td>\n",
       "      <td>跨区</td>\n",
       "      <td>Y</td>\n",
       "      <td>沃尔玛</td>\n",
       "      <td>wa-476</td>\n",
       "      <td>H&amp;H直供</td>\n",
       "      <td>POS</td>\n",
       "      <td>POS Value</td>\n",
       "      <td>黑人*</td>\n",
       "      <td>wa-476黑人*</td>\n",
       "      <td>0.00</td>\n",
       "      <td>0.50</td>\n",
       "      <td>0.00</td>\n",
       "      <td>0.00</td>\n",
       "      <td>0.00</td>\n",
       "      <td>0.00</td>\n",
       "      <td>nan</td>\n",
       "      <td>nan</td>\n",
       "      <td>NaN</td>\n",
       "      <td>http://139.219.6.254:8080/defaultBucket/1f1aea...</td>\n",
       "      <td>2017/3/31 7:46:40</td>\n",
       "      <td>是</td>\n",
       "      <td>NaN</td>\n",
       "    </tr>\n",
       "    <tr>\n",
       "      <th>1</th>\n",
       "      <td>604160</td>\n",
       "      <td>赵勇</td>\n",
       "      <td>锦州店</td>\n",
       "      <td>2017</td>\n",
       "      <td>201703</td>\n",
       "      <td>31</td>\n",
       "      <td>辽宁</td>\n",
       "      <td>吕伟</td>\n",
       "      <td>张宏伟</td>\n",
       "      <td>赵勇</td>\n",
       "      <td>0</td>\n",
       "      <td>华北</td>\n",
       "      <td>辽宁</td>\n",
       "      <td>锦州</td>\n",
       "      <td>Hypermarket</td>\n",
       "      <td>NRKA</td>\n",
       "      <td>跨区</td>\n",
       "      <td>Y</td>\n",
       "      <td>沃尔玛</td>\n",
       "      <td>wa-476</td>\n",
       "      <td>H&amp;H直供</td>\n",
       "      <td>POS</td>\n",
       "      <td>POS Value</td>\n",
       "      <td>高露洁</td>\n",
       "      <td>wa-476高露洁</td>\n",
       "      <td>0.00</td>\n",
       "      <td>0.50</td>\n",
       "      <td>0.00</td>\n",
       "      <td>0.00</td>\n",
       "      <td>0.00</td>\n",
       "      <td>0.00</td>\n",
       "      <td>nan</td>\n",
       "      <td>nan</td>\n",
       "      <td>NaN</td>\n",
       "      <td>http://139.219.6.254:8080/defaultBucket/7ddfb3...</td>\n",
       "      <td>2017/3/31 7:46:40</td>\n",
       "      <td>是</td>\n",
       "      <td>NaN</td>\n",
       "    </tr>\n",
       "    <tr>\n",
       "      <th>2</th>\n",
       "      <td>604160</td>\n",
       "      <td>赵勇</td>\n",
       "      <td>锦州店</td>\n",
       "      <td>2017</td>\n",
       "      <td>201703</td>\n",
       "      <td>31</td>\n",
       "      <td>辽宁</td>\n",
       "      <td>吕伟</td>\n",
       "      <td>张宏伟</td>\n",
       "      <td>赵勇</td>\n",
       "      <td>0</td>\n",
       "      <td>华北</td>\n",
       "      <td>辽宁</td>\n",
       "      <td>锦州</td>\n",
       "      <td>Hypermarket</td>\n",
       "      <td>NRKA</td>\n",
       "      <td>跨区</td>\n",
       "      <td>Y</td>\n",
       "      <td>沃尔玛</td>\n",
       "      <td>wa-476</td>\n",
       "      <td>H&amp;H直供</td>\n",
       "      <td>POS</td>\n",
       "      <td>POS Value</td>\n",
       "      <td>佳洁士</td>\n",
       "      <td>wa-476佳洁士</td>\n",
       "      <td>0.00</td>\n",
       "      <td>0.50</td>\n",
       "      <td>0.00</td>\n",
       "      <td>0.00</td>\n",
       "      <td>0.00</td>\n",
       "      <td>0.00</td>\n",
       "      <td>nan</td>\n",
       "      <td>nan</td>\n",
       "      <td>http://139.219.6.254:8080/defaultBucket/026389...</td>\n",
       "      <td>NaN</td>\n",
       "      <td>2017/3/31 7:46:40</td>\n",
       "      <td>是</td>\n",
       "      <td>NaN</td>\n",
       "    </tr>\n",
       "  </tbody>\n",
       "</table>\n",
       "</div>"
      ],
      "text/plain": [
       "       E号  姓名 门店名称     年       月   日 大区主管 城市经理 HH同事 DSR销售代表  长促数量  区域  省份  城市  \\\n",
       "0  604160  赵勇  锦州店  2017  201703  31   辽宁   吕伟  张宏伟      赵勇     0  华北  辽宁  锦州   \n",
       "1  604160  赵勇  锦州店  2017  201703  31   辽宁   吕伟  张宏伟      赵勇     0  华北  辽宁  锦州   \n",
       "2  604160  赵勇  锦州店  2017  201703  31   辽宁   吕伟  张宏伟      赵勇     0  华北  辽宁  锦州   \n",
       "\n",
       "          渠道信息  KA类型 门店类型 KSM门店   客户    门店编号    代理商 数据类型       金额类型 选项名称  \\\n",
       "0  Hypermarket  NRKA   跨区     Y  沃尔玛  wa-476  H&H直供  POS  POS Value  黑人*   \n",
       "1  Hypermarket  NRKA   跨区     Y  沃尔玛  wa-476  H&H直供  POS  POS Value  高露洁   \n",
       "2  Hypermarket  NRKA   跨区     Y  沃尔玛  wa-476  H&H直供  POS  POS Value  佳洁士   \n",
       "\n",
       "       唯一识别码                 包柱数量                 堆头数量                 端架数量  \\\n",
       "0  wa-476黑人*                 0.00                 0.50                 0.00   \n",
       "1  wa-476高露洁                 0.00                 0.50                 0.00   \n",
       "2  wa-476佳洁士                 0.00                 0.50                 0.00   \n",
       "\n",
       "                 落地架数量                 挂网数量                 挂条数量  \\\n",
       "0                 0.00                 0.00                 0.00   \n",
       "1                 0.00                 0.00                 0.00   \n",
       "2                 0.00                 0.00                 0.00   \n",
       "\n",
       "                长促数量.1                 临促数量  \\\n",
       "0                  nan                  nan   \n",
       "1                  nan                  nan   \n",
       "2                  nan                  nan   \n",
       "\n",
       "                                            常规第二陈列拍照  \\\n",
       "0                                                NaN   \n",
       "1                                                NaN   \n",
       "2  http://139.219.6.254:8080/defaultBucket/026389...   \n",
       "\n",
       "                                          促销档期第二陈列拍照               提交时间 有效数据  \\\n",
       "0  http://139.219.6.254:8080/defaultBucket/1f1aea...  2017/3/31 7:46:40    是   \n",
       "1  http://139.219.6.254:8080/defaultBucket/7ddfb3...  2017/3/31 7:46:40    是   \n",
       "2                                                NaN  2017/3/31 7:46:40    是   \n",
       "\n",
       "  KA分区  \n",
       "0  NaN  \n",
       "1  NaN  \n",
       "2  NaN  "
      ]
     },
     "execution_count": 5,
     "metadata": {},
     "output_type": "execute_result"
    }
   ],
   "source": [
    "fy17.head(3)"
   ]
  },
  {
   "cell_type": "code",
   "execution_count": 6,
   "metadata": {},
   "outputs": [],
   "source": [
    "#neat_fy_17 = fy17[fy17['有效数据']=='是']"
   ]
  },
  {
   "cell_type": "code",
   "execution_count": 7,
   "metadata": {},
   "outputs": [],
   "source": [
    "dt = fy17['堆头数量']\n",
    "dj = fy17['端架数量']\n",
    "ldj =fy17['落地架数量']\n",
    "gw =fy17['挂网数量']\n",
    "gt = fy17['挂条数量']"
   ]
  },
  {
   "cell_type": "code",
   "execution_count": 8,
   "metadata": {
    "scrolled": false
   },
   "outputs": [
    {
     "data": {
      "text/plain": [
       "pandas.core.series.Series"
      ]
     },
     "execution_count": 8,
     "metadata": {},
     "output_type": "execute_result"
    }
   ],
   "source": [
    "type(dt)"
   ]
  },
  {
   "cell_type": "code",
   "execution_count": 9,
   "metadata": {},
   "outputs": [],
   "source": [
    "dt = dt[(dt > 0) & (dt <=5)]\n",
    "dj = dj[(dj > 0) & (dj <=2)]\n",
    "ldj = ldj[(ldj > 0) & (ldj <=3)]\n",
    "gw =  gw[(gw > 0) & (gw <=10)]\n",
    "gt =  gt[(gt > 0) & (gt <=50)]"
   ]
  },
  {
   "cell_type": "code",
   "execution_count": 10,
   "metadata": {},
   "outputs": [],
   "source": [
    "dt.columns = ['堆头数量']"
   ]
  },
  {
   "cell_type": "code",
   "execution_count": 11,
   "metadata": {
    "scrolled": true
   },
   "outputs": [
    {
     "data": {
      "text/plain": [
       "0                    0.50\n",
       "1                    0.50\n",
       "2                    0.50\n",
       "4                    0.50\n",
       "14                   1.00\n",
       "Name: 堆头数量, dtype: float64"
      ]
     },
     "execution_count": 11,
     "metadata": {},
     "output_type": "execute_result"
    }
   ],
   "source": [
    "dt.head()"
   ]
  },
  {
   "cell_type": "code",
   "execution_count": 12,
   "metadata": {
    "scrolled": true
   },
   "outputs": [
    {
     "data": {
      "text/plain": [
       "pandas.core.series.Series"
      ]
     },
     "execution_count": 12,
     "metadata": {},
     "output_type": "execute_result"
    }
   ],
   "source": [
    "type(dt)"
   ]
  },
  {
   "cell_type": "code",
   "execution_count": 13,
   "metadata": {},
   "outputs": [
    {
     "data": {
      "text/plain": [
       "count             215,156.00\n",
       "mean                    1.11\n",
       "std                     0.63\n",
       "min                     0.00\n",
       "25%                     1.00\n",
       "50%                     1.00\n",
       "75%                     1.00\n",
       "max                     5.00\n",
       "Name: 堆头数量, dtype: float64"
      ]
     },
     "execution_count": 13,
     "metadata": {},
     "output_type": "execute_result"
    }
   ],
   "source": [
    "dt.describe()"
   ]
  },
  {
   "cell_type": "code",
   "execution_count": 14,
   "metadata": {},
   "outputs": [],
   "source": [
    "import seaborn as sns"
   ]
  },
  {
   "cell_type": "code",
   "execution_count": 15,
   "metadata": {},
   "outputs": [],
   "source": [
    "# f, axes = plt.subplots(2, 3, figsize=(20, 15), sharex=True)\n",
    "\n",
    "# sns.distplot(dt,kde=False,color=\"b\", ax=axes[0, 0])\n",
    "# sns.distplot(dj,kde=False,color=\"r\", ax=axes[0, 1])\n",
    "# sns.distplot(ldj,kde=False,color=\"g\", ax=axes[0, 2])\n",
    "\n",
    "# sns.distplot(gw,kde=False,color=\"m\", ax=axes[1, 0])\n",
    "# sns.distplot(gt,kde=False,color=\"m\", ax=axes[1, 1])"
   ]
  },
  {
   "cell_type": "code",
   "execution_count": 16,
   "metadata": {
    "scrolled": false
   },
   "outputs": [
    {
     "data": {
      "text/plain": [
       "<matplotlib.axes._subplots.AxesSubplot at 0x1faa24ee898>"
      ]
     },
     "execution_count": 16,
     "metadata": {},
     "output_type": "execute_result"
    },
    {
     "data": {
      "image/png": "[encoded data removed]",
      "text/plain": [
       "<Figure size 1080x864 with 1 Axes>"
      ]
     },
     "metadata": {},
     "output_type": "display_data"
    }
   ],
   "source": [
    "plt.figure(figsize=(15, 12))\n",
    "sns.distplot(dt,kde=False)"
   ]
  },
  {
   "cell_type": "code",
   "execution_count": 17,
   "metadata": {
    "scrolled": false
   },
   "outputs": [
    {
     "data": {
      "text/plain": [
       "<matplotlib.axes._subplots.AxesSubplot at 0x1faa46cd128>"
      ]
     },
     "execution_count": 17,
     "metadata": {},
     "output_type": "execute_result"
    },
    {
     "data": {
      "image/png": "[encoded data removed]",
      "text/plain": [
       "<Figure size 1440x864 with 1 Axes>"
      ]
     },
     "metadata": {},
     "output_type": "display_data"
    }
   ],
   "source": [
    "plt.figure(figsize=(20, 12))\n",
    "sns.distplot(dj,kde=False)"
   ]
  },
  {
   "cell_type": "code",
   "execution_count": 18,
   "metadata": {
    "scrolled": false
   },
   "outputs": [
    {
     "data": {
      "text/plain": [
       "<matplotlib.axes._subplots.AxesSubplot at 0x1faa9210dd8>"
      ]
     },
     "execution_count": 18,
     "metadata": {},
     "output_type": "execute_result"
    },
    {
     "data": {
      "image/png": "[encoded data removed]",
      "text/plain": [
       "<Figure size 864x864 with 1 Axes>"
      ]
     },
     "metadata": {},
     "output_type": "display_data"
    }
   ],
   "source": [
    "plt.figure(figsize=(12, 12))\n",
    "sns.distplot(ldj,kde=False)"
   ]
  },
  {
   "cell_type": "code",
   "execution_count": 19,
   "metadata": {},
   "outputs": [
    {
     "data": {
      "text/plain": [
       "<matplotlib.axes._subplots.AxesSubplot at 0x1faa4cb27b8>"
      ]
     },
     "execution_count": 19,
     "metadata": {},
     "output_type": "execute_result"
    },
    {
     "data": {
      "image/png": "[encoded data removed]",
      "text/plain": [
       "<Figure size 864x864 with 1 Axes>"
      ]
     },
     "metadata": {},
     "output_type": "display_data"
    }
   ],
   "source": [
    "plt.figure(figsize=(12, 12))\n",
    "sns.distplot(gw,kde=False)"
   ]
  },
  {
   "cell_type": "code",
   "execution_count": 20,
   "metadata": {},
   "outputs": [
    {
     "data": {
      "text/plain": [
       "<matplotlib.axes._subplots.AxesSubplot at 0x1faa6bc7b00>"
      ]
     },
     "execution_count": 20,
     "metadata": {},
     "output_type": "execute_result"
    },
    {
     "data": {
      "image/png": "[encoded data removed]",
      "text/plain": [
       "<Figure size 864x864 with 1 Axes>"
      ]
     },
     "metadata": {},
     "output_type": "display_data"
    }
   ],
   "source": [
    "plt.figure(figsize=(12, 12))\n",
    "sns.distplot(gt,kde=False)"
   ]
  },
  {
   "cell_type": "code",
   "execution_count": null,
   "metadata": {},
   "outputs": [],
   "source": []
  },
  {
   "cell_type": "code",
   "execution_count": null,
   "metadata": {},
   "outputs": [],
   "source": []
  }
 ],
 "metadata": {
  "kernelspec": {
   "display_name": "Python 3",
   "language": "python",
   "name": "python3"
  },
  "language_info": {
   "codemirror_mode": {
    "name": "ipython",
    "version": 3
   },
   "file_extension": ".py",
   "mimetype": "text/x-python",
   "name": "python",
   "nbconvert_exporter": "python",
   "pygments_lexer": "ipython3",
   "version": "3.6.5"
  }
 },
 "nbformat": 4,
 "nbformat_minor": 2
}
