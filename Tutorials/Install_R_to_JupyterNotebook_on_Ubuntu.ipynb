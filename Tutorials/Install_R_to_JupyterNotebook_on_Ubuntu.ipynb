{
 "cells": [
  {
   "cell_type": "code",
   "execution_count": 2,
   "metadata": {},
   "outputs": [],
   "source": [
    "library('txtplot')"
   ]
  },
  {
   "cell_type": "code",
   "execution_count": 3,
   "metadata": {},
   "outputs": [
    {
     "name": "stdout",
     "output_type": "stream",
     "text": [
      "      +----+-----------+------------+-----------+-----------+--+\n",
      "  120 +                                                   *    +\n",
      "      |                                                        |\n",
      "  100 +                                                   *    +\n",
      "      |                                    *                *  |\n",
      "刹  80 +                          *         *                   +\n",
      "车     |                                       * *    *    *    |\n",
      "距  60 +                          *  *      *    *      *       +\n",
      "离     |                        *         * *  * *              |\n",
      "   40 +                *       * *    *  *    * *              +\n",
      "      |         *      *  * *  * *  *                          |\n",
      "   20 +           *    *  * *       *                          +\n",
      "      |  *      *    *                                         |\n",
      "    0 +----+-----------+------------+-----------+-----------+--+\n",
      "           5          10           15          20          25   \n",
      "                                 速度                             \n"
     ]
    }
   ],
   "source": [
    "txtplot(cars[,1], cars[,2], xlab = \"速度\", ylab = \"刹车距离\")"
   ]
  }
 ],
 "metadata": {
  "kernelspec": {
   "display_name": "R",
   "language": "R",
   "name": "ir"
  },
  "language_info": {
   "codemirror_mode": "r",
   "file_extension": ".r",
   "mimetype": "text/x-r-source",
   "name": "R",
   "pygments_lexer": "r",
   "version": "3.4.3"
  }
 },
 "nbformat": 4,
 "nbformat_minor": 2
}
