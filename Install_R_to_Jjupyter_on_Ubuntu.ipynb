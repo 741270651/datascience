{
 "cells": [
  {
   "cell_type": "code",
   "execution_count": 2,
   "metadata": {},
   "outputs": [],
   "source": [
    "library('txtplot')"
   ]
  },
  {
   "cell_type": "code",
   "execution_count": 3,
   "metadata": {},
   "outputs": [
    {
     "name": "stdout",
     "output_type": "stream",
     "text": [
      "      +----+-----------+------------+-----------+-----------+--+\n",
      "  120 +                                                   *    +\n",
      "      |                                                        |\n",
      "d 100 +                                                   *    +\n",
      "i     |                                    *                *  |\n",
      "s  80 +                          *         *                   +\n",
      "t     |                                       * *    *    *    |\n",
      "a  60 +                          *  *      *    *      *       +\n",
      "n     |                        *         * *  * *              |\n",
      "c  40 +                *       * *    *  *    * *              +\n",
      "e     |         *      *  * *  * *  *                          |\n",
      "   20 +           *    *  * *       *                          +\n",
      "      |  *      *    *                                         |\n",
      "    0 +----+-----------+------------+-----------+-----------+--+\n",
      "           5          10           15          20          25   \n",
      "                                speed                           \n"
     ]
    }
   ],
   "source": [
    "txtplot(cars[,1], cars[,2], xlab = \"speed\", ylab = \"distance\")"
   ]
  }
 ],
 "metadata": {
  "kernelspec": {
   "display_name": "R",
   "language": "R",
   "name": "ir"
  },
  "language_info": {
   "codemirror_mode": "r",
   "file_extension": ".r",
   "mimetype": "text/x-r-source",
   "name": "R",
   "pygments_lexer": "r",
   "version": "3.4.3"
  }
 },
 "nbformat": 4,
 "nbformat_minor": 2
}
