{
 "cells": [
  {
   "cell_type": "markdown",
   "metadata": {},
   "source": [
    "# PythonToDdailyTasks"
   ]
  },
  {
   "cell_type": "code",
   "execution_count": 1,
   "metadata": {
    "collapsed": true
   },
   "outputs": [],
   "source": [
    "import os"
   ]
  },
  {
   "cell_type": "code",
   "execution_count": 2,
   "metadata": {},
   "outputs": [
    {
     "data": {
      "text/plain": [
       "'E:\\\\DataAnalysis\\\\PythonToDailyTasks'"
      ]
     },
     "execution_count": 2,
     "metadata": {},
     "output_type": "execute_result"
    }
   ],
   "source": [
    "os.getcwd()"
   ]
  },
  {
   "cell_type": "code",
   "execution_count": 4,
   "metadata": {},
   "outputs": [],
   "source": [
    "import shutil"
   ]
  },
  {
   "cell_type": "code",
   "execution_count": 10,
   "metadata": {},
   "outputs": [
    {
     "data": {
      "text/plain": [
       "'E:\\\\DataAnalysis\\\\PythonToDailyTasks\\\\b\\\\a.txt'"
      ]
     },
     "execution_count": 10,
     "metadata": {},
     "output_type": "execute_result"
    }
   ],
   "source": [
    "# shutil.copy(source, destination)\n",
    "#如果destination中提供文件名，则使用该文件名，否则使用source中文件名\n",
    "shutil.copy('E:\\\\DataAnalysis\\\\PythonToDailyTasks\\\\a\\\\a.txt', 'E:\\\\DataAnalysis\\\\PythonToDailyTasks\\\\b\\\\')"
   ]
  },
  {
   "cell_type": "code",
   "execution_count": 15,
   "metadata": {},
   "outputs": [
    {
     "data": {
      "text/plain": [
       "'E:\\\\DataAnalysis\\\\PythonToDailyTasks\\\\a_backup1'"
      ]
     },
     "execution_count": 15,
     "metadata": {},
     "output_type": "execute_result"
    }
   ],
   "source": [
    "# destination必须是新文件夹，如果destination已经存在会报错\n",
    "shutil.copytree('E:\\\\DataAnalysis\\\\PythonToDailyTasks\\\\a','E:\\\\DataAnalysis\\\\PythonToDailyTasks\\\\a_backup1')"
   ]
  },
  {
   "cell_type": "code",
   "execution_count": 16,
   "metadata": {
    "collapsed": true
   },
   "outputs": [],
   "source": [
    "# 用 os.unlink(path)将删除 path 处的文件。\n",
    "# 调用 os.rmdir(path)将删除 path 处的文件夹。该文件夹必须为空，其中没有任何文件和文件夹。\n",
    "# 调用 shutil.rmtree(path)将删除 path 处的文件夹，它包含的所有文件和文件夹都会被删除。\n",
    "# ===============以上都是永久性删除，要小心使用=========================\n",
    "# 删除文件和文件夹的更好方法，是使用第三方的 send2trash 模块\n",
    "import send2trash"
   ]
  },
  {
   "cell_type": "code",
   "execution_count": 20,
   "metadata": {},
   "outputs": [],
   "source": [
    "send2trash.send2trash(\"E:\\\\DataAnalysis\\\\PythonToDailyTasks\\\\a\\\\a.txt\")"
   ]
  },
  {
   "cell_type": "markdown",
   "metadata": {},
   "source": [
    "## 遍历目录树\n",
    "![title](../IMG/IterateTree.png)"
   ]
  },
  {
   "cell_type": "code",
   "execution_count": 23,
   "metadata": {
    "scrolled": true
   },
   "outputs": [
    {
     "name": "stdout",
     "output_type": "stream",
     "text": [
      "The current folder is E:\\DataAnalysis\\PythonToDailyTasks\n",
      "SUBFOLDER OF E:\\DataAnalysis\\PythonToDailyTasks: .ipynb_checkpoints\n",
      "SUBFOLDER OF E:\\DataAnalysis\\PythonToDailyTasks: a\n",
      "SUBFOLDER OF E:\\DataAnalysis\\PythonToDailyTasks: a_backup\n",
      "SUBFOLDER OF E:\\DataAnalysis\\PythonToDailyTasks: a_backup1\n",
      "SUBFOLDER OF E:\\DataAnalysis\\PythonToDailyTasks: b\n",
      "FILE INSIDE E:\\DataAnalysis\\PythonToDailyTasks: PythonToDailyTasks.ipynb\n",
      "END OF ONE ITERATION==============\n",
      "The current folder is E:\\DataAnalysis\\PythonToDailyTasks\\.ipynb_checkpoints\n",
      "FILE INSIDE E:\\DataAnalysis\\PythonToDailyTasks\\.ipynb_checkpoints: PythonToDailyTasks-checkpoint.ipynb\n",
      "END OF ONE ITERATION==============\n",
      "The current folder is E:\\DataAnalysis\\PythonToDailyTasks\\a\n",
      "FILE INSIDE E:\\DataAnalysis\\PythonToDailyTasks\\a: a.txt\n",
      "END OF ONE ITERATION==============\n",
      "The current folder is E:\\DataAnalysis\\PythonToDailyTasks\\a_backup\n",
      "FILE INSIDE E:\\DataAnalysis\\PythonToDailyTasks\\a_backup: a.txt\n",
      "END OF ONE ITERATION==============\n",
      "The current folder is E:\\DataAnalysis\\PythonToDailyTasks\\a_backup1\n",
      "FILE INSIDE E:\\DataAnalysis\\PythonToDailyTasks\\a_backup1: a.txt\n",
      "END OF ONE ITERATION==============\n",
      "The current folder is E:\\DataAnalysis\\PythonToDailyTasks\\b\n",
      "FILE INSIDE E:\\DataAnalysis\\PythonToDailyTasks\\b: a.txt\n",
      "FILE INSIDE E:\\DataAnalysis\\PythonToDailyTasks\\b: b.txt\n",
      "FILE INSIDE E:\\DataAnalysis\\PythonToDailyTasks\\b: c.txt\n",
      "END OF ONE ITERATION==============\n"
     ]
    }
   ],
   "source": [
    "#介绍一下os.walk()\n",
    "#打开任何文件夹，所见有两种东西：文件夹和文件\n",
    "# 打开其中的一个文件夹，所见有两种东西：文件夹和文件\n",
    "# 继续打开其中一个文件夹，重复上述过程，直到所见只有文件或者为空\n",
    "# 最开始打开的文件夹遍历完毕\n",
    "for folderName, subfolders, filenames in os.walk('E:\\\\DataAnalysis\\\\PythonToDailyTasks'):\n",
    "    print('The current folder is ' + folderName)\n",
    "    for subfolder in subfolders:\n",
    "        print('SUBFOLDER OF ' + folderName + ': ' + subfolder)\n",
    "    for filename in filenames:\n",
    "        print('FILE INSIDE ' + folderName + ': '+ filename)\n",
    "    print('END OF ONE ITERATION==============')"
   ]
  },
  {
   "cell_type": "code",
   "execution_count": 24,
   "metadata": {
    "collapsed": true
   },
   "outputs": [],
   "source": [
    "#读取 ZIP 压缩包\n",
    "import zipfile"
   ]
  },
  {
   "cell_type": "code",
   "execution_count": 25,
   "metadata": {
    "collapsed": true
   },
   "outputs": [],
   "source": [
    "exampleZip = zipfile.ZipFile('example.zip')"
   ]
  },
  {
   "cell_type": "code",
   "execution_count": 28,
   "metadata": {},
   "outputs": [
    {
     "data": {
      "text/plain": [
       "['spam.txt', 'cats/', 'cats/catnames.txt', 'cats/zophie.jpg']"
      ]
     },
     "execution_count": 28,
     "metadata": {},
     "output_type": "execute_result"
    }
   ],
   "source": [
    "exampleZip.namelist()"
   ]
  },
  {
   "cell_type": "code",
   "execution_count": 29,
   "metadata": {
    "collapsed": true
   },
   "outputs": [],
   "source": [
    "spamInfo = exampleZip.getinfo('spam.txt')"
   ]
  },
  {
   "cell_type": "code",
   "execution_count": 30,
   "metadata": {
    "scrolled": true
   },
   "outputs": [
    {
     "data": {
      "text/plain": [
       "13908"
      ]
     },
     "execution_count": 30,
     "metadata": {},
     "output_type": "execute_result"
    }
   ],
   "source": [
    "spamInfo.file_size\n",
    "#后面还有解压缩等方法，略"
   ]
  },
  {
   "cell_type": "code",
   "execution_count": 31,
   "metadata": {
    "collapsed": true
   },
   "outputs": [],
   "source": [
    "import requests"
   ]
  },
  {
   "cell_type": "code",
   "execution_count": 36,
   "metadata": {
    "collapsed": true
   },
   "outputs": [],
   "source": [
    "res = requests.get('https://dictionary.goo.ne.jp')"
   ]
  },
  {
   "cell_type": "code",
   "execution_count": 37,
   "metadata": {},
   "outputs": [
    {
     "data": {
      "text/plain": [
       "requests.models.Response"
      ]
     },
     "execution_count": 37,
     "metadata": {},
     "output_type": "execute_result"
    }
   ],
   "source": [
    "type(res)"
   ]
  },
  {
   "cell_type": "code",
   "execution_count": 38,
   "metadata": {},
   "outputs": [
    {
     "data": {
      "text/plain": [
       "'<!DOCTYPE HTML>\\n<html lang=\"ja\">\\n<head prefix=\"og: http://ogp.me/ns# fb: http://ogp.me/ns/fb#\">\\n<meta name=\"google-site-verification\" content=\"ilYI_xSMTWEo5X-8w1yyuoD33xr68qqfVdWjcnum8pk\" />\\n<meta charset=\"utf-8\">\\n<!--[if !IE]><meta http-equiv=\"X-UA-Compatible\" content=\"IE=edge\"><![endif]-->\\n<title>goo辞書 - 国語・英語・四字熟語・中国語のオンライン辞書</title>\\n<meta name=\"description\" content=\"goo辞書は無料で使える日本最大級の辞書サービスです。国語辞書、英和辞書、和英辞書、類語辞書、中国語辞書、四字熟語など50以上の語学辞典、専門用語集など、様々な辞書から検索できます。\">\\n<meta name=\"keywords\" content=\"辞書,意味,辞典,用語,国語,英語,類語,英和,和英,熟語,四字熟語,中国語,中日,日中,百科事典,家庭の医学,無料,goo辞書\">\\n<meta property=\"og:description\" content=\"goo辞書は無料で使える日本最大級の辞書サービスです。国語辞書、英和辞書、和英辞書、類語辞書、中国語辞書、四字熟語など50以上の語学辞典、専門用語集など、様々な辞書から検索できます。\">\\n<meta name=\"viewport\" content=\"width=device-width,initial-scale=1,minimum-scale=1,maximum-scale=1,user-scalable=0\">\\n<meta name=\"format-detection\" content=\"telephone=no\">\\n\\n<meta property=\"og:site_name\" content=\"goo辞書\">\\n\\n<meta property=\"og:title\" content=\"国語・英語・四字熟語・中国語のオンライン辞書 - goo辞書\">\\n<meta property=\"og:type\" content=\"website\">\\n<meta property=\"og:url\" content=\"https://dictionary.goo.ne.jp\">\\n<meta property=\"og:image\" content=\"https://u.xgoo.jp/img/sns/dictionary.png\">\\n<meta property=\"fb:app_id\" content=\"338238396366874\">\\n\\n<meta name=\"verify-v1\" content=\"qa53LW9BUVLPhvNzCRUOvDgNzjBF03gXDDsyUdVIJjY=\" >\\n<meta name=\"y_key\" content=\"fd9d2f743badb7cf\">\\n\\n<meta name=\"robots\" content=\"noarchive\">\\n\\n<link rel=\"canonical\" href=\"https://dictionary.goo.ne.jp\" />\\n\\n<link rel=\"apple-touch-icon\" href=\"//u.xgoo.jp/img/sns/dictionary.png\">\\n<link rel=\"stylesheet\" href=\"//u.xgoo.jp/css/2.1.css\">\\n<link rel=\"stylesheet\" href=\"//u.xgoo.jp/fa/x.css\">\\n<!--link rel=\"subresource\" href=\"http://u.xgoo.jp/jquery/1.8.js\"-->\\n<script src=\"//u.xgoo.jp/jquery/1.8.js\"></script>\\n<link rel=\"subresource\" href=\"//u.xgoo.jp/js/1.1.js\">\\n<link rel=\"stylesheet\" href=\"/css/colorbox.css?1475203699\">\\n<link rel=\"stylesheet\" href=\"/css/2.1.css?1475203699\">\\n<link rel=\"stylesheet\" href=\"/css/style.css?1491805187\">\\n\\n<link rel=\"stylesheet\" href=\"/hyge_modified/css/style.css?1475203699\">\\n<link rel=\"stylesheet\" href=\"/hyge_modified/css/search_result.css?1475203699\">\\n\\n<script type=\"text/javascript\" src=\"/js/check_width.js?1475203700\"></script>\\n\\n<script>\\n_goo_display_type = checkWidth();\\n\\njQuery(window).resize(function(){\\n\\t_goo_display_type = checkWidth();\\n});\\n</script>\\n\\n\\n\\n<script type=\"text/javascript\">\\nvar u=navigator.userAgent;\\nif((/android/i.test(u)&&/mobile/i.test(u))||(!/ipad/i.test(u)&&/ip(hone|od)/i.test(u))){\\n// in the case of smart-phone\\nwindow._goo_display_type = \\'sp\\';\\n} else {\\nwindow._goo_display_type = \\'pc\\';\\n}\\n</script>\\n\\n\\n<script type=\"text/javascript\" src=\"//adcdn.goo.ne.jp/images/js/smarttag-tool-dicglossary.js\" charset=\"utf-8\"></script>\\n\\n<script type=\"text/javascript\" src=\"/js/suggest.js?1475203700\"></script>\\n<script language=\"javascript\" src=\"/js/swfobject.js?1475203700\"></script>\\n<script type=\"text/javascript\" src=\"/js/playsound.js?1475203700\"></script>\\n\\n<!--\\n\\n\\n-->\\n</head>\\n<body class=\"NR-col2a NR-rwd top\">\\n\\n\\n<!-- Google Tag Manager -->\\n<script>\\ndataLayer = [{\\n    \\'template\\': \\'pc\\',\\n\\n    \\'rwd\\': 1\\n}];\\nvar u = navigator.userAgent;\\nif((/android/i.test(u)&&/mobile/i.test(u))||(!/ipad/i.test(u)&&/ip(hone|od)/i.test(u))){\\n    dataLayer[0].template = \\'sp\\';\\n}\\n</script>\\n<!-- Google Tag Manager -->\\n<noscript><iframe src=\"//www.googletagmanager.com/ns.html?id=GTM-N3G4LD\"\\nheight=\"0\" width=\"0\" style=\"display:none;visibility:hidden\"></iframe></noscript>\\n<script>(function(w,d,s,l,i){w[l]=w[l]||[];w[l].push({\\'gtm.start\\':\\nnew Date().getTime(),event:\\'gtm.js\\'});var f=d.getElementsByTagName(s)[0],\\nj=d.createElement(s),dl=l!=\\'dataLayer\\'?\\'&l=\\'+l:\\'\\';j.async=true;j.src=\\n\\'//www.googletagmanager.com/gtm.js?id=\\'+i+dl;f.parentNode.insertBefore(j,f);\\n})(window,document,\\'script\\',\\'dataLayer\\',\\'GTM-N3G4LD\\');</script>\\n<!-- End Google Tag Manager -->\\n\\n\\n<div id=\"fb-root\"> </div>\\n<div id=\"NR-page\">\\n<header role=\"banner\">\\n  <div id=\"NR-header\">\\n    <div id=\"NR-header-in\">\\n      <p id=\"NR-header-logo\"> <a href=\"//dictionary.goo.ne.jp\" id=\"NR-header-logo-goo\"> <img src=\"//u.xgoo.jp/img/goo.png\" width=\"71\" height=\"37\" alt=\"goo\"> </a> <a href=\"//dictionary.goo.ne.jp\" id=\"NR-header-logo-sv\">辞書 <img src=\"//u.xgoo.jp/img/sv/dictionary.png\" width=\"37\" height=\"37\" alt=\"辞書\"> </a> </p>\\n      <div id=\"NR-header-util\">\\n        <ul id=\"NR-header-tool\" class=\"cx\">\\n          <li> <a href=\"http://www.goo.ne.jp/\" class=\"NR-go\">gooトップ</a> </li>\\n          <li> <a href=\"https://login.mail.goo.ne.jp/id/authn/LoginStart\">ログイン</a> </li>\\n          <li> <a href=\"https://login.mail.goo.ne.jp/id/portal/RegIDAndSvcStart\">gooIDを新規登録</a> </li>\\n        </ul>\\n        <div id=\"NR-header-ocn\"> <a href=\"http://www.ocn.ne.jp/\" target=\"ocn\"> <img src=\"//u.xgoo.jp/cmm001/img/logo/headocn.gif\" alt=\"OCN\" id=\"NR-header-ocn-logo\">プロバイダならOCN </a>\\n          <!-- header-ocn(option) -->\\n        </div>\\n      </div>\\n      <!-- header-in -->\\n    </div>\\n  </div>\\n</header>\\n\\n\\n<aside role=\"complementary\">\\n  <div class=\"NR-pr aside\">\\n\\n    <!--ad_superbanner-->\\n      <div id=\"gooad-long\"><script type=\"text/javascript\">window.gooad && window.gooad.render();</script></div>\\n    <!--/ad_superbanner-->\\n\\n  </div>\\n</aside>\\n\\t<nav role=\"navigation\"><div id=\"NR-nav\">\\n\\t\\t<div id=\"NR-nav-main\">\\n\\t\\t\\t<div id=\"NR-nav-main-scrolling\">\\n\\t\\t\\t<ul id=\"NR-nav-main-in\" class=\"cx\">\\n\\t\\t\\t\\t<li  class=\"NR-now\"><a href=\"//dictionary.goo.ne.jp\">辞書</a></li>\\n\\t\\t\\t\\t<li ><a href=\"/jn/\">国語</a></li>\\n\\t\\t\\t\\t<li ><a href=\"/thsrs/\">類語</a></li>\\n                                <li ><a href=\"/en/\">英和・和英</a></li>\\n\\t\\t\\t\\t<li ><a href=\"/cj/\">中日</a></li>\\n\\t\\t\\t\\t<li ><a href=\"/jc/\">日中</a></li>\\n\\t\\t\\t\\t<li ><a href=\"/wiki/\">Wiki</a></li>\\n\\t\\t\\t\\t<li ><a href=\"/glossary/\">専門用語</a></li>\\n\\t\\t\\t\\t<li ><a href=\"/knowledge/\">豆知識</a></li>\\n\\t\\t\\t</ul>\\n\\t\\t\\t</div>\\n\\t\\t</div>\\n\\n        \\t<!-- nav --></div></nav>\\n\\n\\r\\n<script type=\"text/javascript\" src=\"/js/dictionary_common.js\"></script>\\r\\n<script type=\"text/javascript\" src=\"/js/click_event.js\"></script>\\r\\n\\r\\n\\r\\n<!-- SP用検索フォーム -->\\r\\n <!-- SP用検索 -->\\n<div class=\"NR-search-top sp-visible\">\\n  <form name=\"dict\" id=\"freeword1sp\" action=\"/freewordsearcher.html\" method=\"get\" class=\"NR-search-in cx\" role=\"search\">\\n    <div class=\"search-unit\" id=\"search-unit_sp\">\\n      <input name=\\'MT\\' type=\"text\" value=\"\" class=\"NR-text NR-search-text\" placeholder=\"調べたい言葉を入力\" id=\"searchtop_sp\" autocomplete=\"off\" onfocus=\"initSuggestSp();\">\\n      \\n      <select class=\"NR-select\" name=\"mode\" id=\"searchtop_sp_searchmode\">\\n        <option value=\"0\" selected>で始まる</option>\\n        <option value=\"1\">で一致する</option>\\n        <option value=\"2\">で終わる</option>\\n        <option value=\"3\">を説明文に含む</option>\\n        <option value=\"6\">を見出しに含む</option>\\n      </select>\\n      <div class=\"NR-clear-search-text\"></div>\\n            <!-- /.search-unit --></div>\\n            <input type=\"image\" src=\"//dictionary.xgoo.jp/img/btn_search_sp.png\" title=\"検索\" alt=\"検索\" class=\"NR-button\">\\n                  <input type=\"hidden\" name=\"kind\" value=\"all\" id=\"searchtop_sp_suggesttype\">\\n                  <div class=\"NR-search-top-cancel\">キャンセル</div>\\n        </form>\\n      <div id=\"NR-search-matching-rule-top\" class=\"NR-search-matching-rule\">\\n      <div class=\"NR-search-matching-rule-scrolling\">\\n        <ul>\\n          <li data-value=\"0\" class=\"NR-now\">で始まる</li>\\n          <li data-value=\"1\">で一致する</li>\\n          <li data-value=\"2\">で終わる</li>\\n          <li data-value=\"3\">を説明文に含む</li>\\n          <li data-value=\"6\">を見出しに含む</li>\\n        </ul>\\n      </div>\\n    </div>\\n    <div class=\"suggest-unit\" id=\"suggest-unit_sp\" style=\"display:none;\">\\n    <!-- /.suggest-unit --></div>\\n    <!-- search(option) --></div>\\n  \\n<!-- 検索 --><!-- /SP用検索フォーム -->\\r\\n\\r\\n<!-- SP用広告枠表示 -->\\r\\n<!-- /SP用広告枠表示 -->\\r\\n\\r\\n<div id=\"NR-wrapper\">\\r\\n  <div id=\"NR-wrapper-in\" class=\"cx\">\\r\\n    <div id=\"NR-main\">\\r\\n      <section>\\r\\n        <div class=\"section contents-wrap-a block-top sp-hidden\">\\r\\n          <h1 class=\"ttl-a\">goo辞書で調べる</h1>\\r\\n\\r\\n          <!-- 検索フォーム -->\\r\\n           <div class=\"NR-search-top sp-hidden\">\\n  <form name=\"dict\" id=\"freeword1\" action=\"/freewordsearcher.html\" method=\"get\" class=\"NR-search-in cx\" role=\"search\">\\n    <div class=\"search-unit\" id=\"search-unit\">\\n      <input name=\\'MT\\' type=\"text\" value=\"\" class=\"NR-text NR-search-text\" placeholder=\"調べたい言葉を入力\" id=\"searchtop\" autocomplete=\"off\" onfocus=\"initSuggest();\" tabindex=\"1\">\\n      \\n      <select class=\"NR-select\" name=\"mode\" id=\"searchtop_searchmode\">\\n        <option value=\"0\" selected>で始まる</option>\\n        <option value=\"1\">で一致する</option>\\n        <option value=\"2\">で終わる</option>\\n        <option value=\"3\">を説明文に含む</option>\\n        <option value=\"6\">を見出しに含む</option>\\n      </select>\\n      <div class=\"NR-clear-search-text\"></div>\\n             <div class=\"suggest-unit\" id=\"suggest-unit\" style=\"display:none;\">\\n      <!-- /.suggest-unit --></div>\\n            <!-- /.search-unit --></div>\\n            <input type=\"image\" src=\"//dictionary.xgoo.jp/img/btn_search.png\" title=\"検索\" alt=\"検索\" tabindex=\"60\">\\n                  <input type=\"hidden\" name=\"kind\" value=\"all\" id=\"searchtop_suggesttype\">\\n              </form>\\n    <!-- search(option) --></div>\\n  \\n<!-- 検索 -->          <!-- /検索フォーム -->\\r\\n\\r\\n          <section>\\r\\n            <div class=\"section\">\\r\\n              <div class=\"ttl-c\"><span class=\"title\">辞書を選ぶ</span></div>\\r\\n              <div class=\"top-navlist\">\\r\\n                <h2><a href=\"/jn/\"><span><i class=\"ico-dictionary\"></i>国語辞書</span></a></h2>\\r\\n                <h2><a href=\"/en/\"><span><i class=\"ico-dictionary\"></i>英和・和英辞書</span></a></h2>\\r\\n                <h2><a href=\"/cj/\"><span><i class=\"ico-dictionary\"></i>中日辞書</span></a></h2>\\r\\n                <h2><a href=\"/thsrs/\"><span><i class=\"ico-dictionary\"></i>類語辞書</span></a></h2>\\r\\n                <h2><a href=\"/idiom/\"><span><i class=\"ico-dictionary\"></i>四字熟語</span></a></h2>\\r\\n                <h2><a href=\"/jc/\"><span><i class=\"ico-dictionary\"></i>日中辞書</span></a></h2>\\r\\n              </div>\\r\\n              <!-- section --></div>\\r\\n          </section>\\r\\n\\r\\n          <!-- section --></div>\\r\\n      </section>\\r\\n\\r\\n      <section>\\r\\n        <div class=\"section contents-wrap-e margin  sp-visible\">\\r\\n          <h2 class=\"ttl-d\">辞書を選ぶ</h2>\\r\\n          <div class=\"list-sp-nav\">\\r\\n            <h3><a href=\"/jn/\"><span>国語辞書</span></a></h3>\\r\\n            <h3><a href=\"/thsrs/\"><span>類語辞書</span></a></h3>\\r\\n            <h3><a href=\"/en/\"><span>英和和英辞書</span></a></h3>\\r\\n            <h3><a href=\"/idiom/\"><span>四字熟語</span></a></h3>\\r\\n            <h3><a href=\"/cj/\"><span>中日辞書</span></a></h3>\\r\\n            <h3><a href=\"/jc/\"><span>日中辞書</span></a></h3>\\r\\n          </div>\\r\\n          <!-- section --></div>\\r\\n      </section>\\r\\n\\r\\n      <!-- 更新情報 -->\\r\\n      <section class=\"update_info\">\\r\\n            <section>\\r\\n        <div class=\"section contents-wrap-c\">\\r\\n          <h2 class=\"ttl-d\">更新情報</h2>\\r\\n          <ul class=\"list-simple-d\">\\r\\n            <!-- NEWS -->\\r\\n<li><a href=\\'http://dictionary.goo.ne.jp/mistake_english/20170426\\'>間違いやすい“時を表す”前置詞(4/26)</a></li>\\r\\n\\r\\n          </ul>\\r\\n          <!-- section --></div>\\r\\n      </section>      </section>\\r\\n      <!-- /更新情報 -->\\r\\n\\r\\n      <section>\\r\\n        <div class=\"section contents-wrap-e\">\\r\\n          <h2 class=\"ttl-d\">goo辞書 検索ランキング</h2>\\r\\n\\r\\n            <!-- ランキング -->\\n<section>\\n  <div class=\"section contents-wrap-a-in linkbar\">\\n    <h3 class=\"ttl-f first\"><a href=\"/jn/\">国語辞書</a> <span class=\"sup\">5/8更新</span></h3>\\n    <div class=\"tab-wrap-b\">\\n      <ul class=\"list-tab-b-top cx jn_ranking\" data-id=\"jn_ranking\">\\n        <li class=\"NR-now\">1～20位</li>\\n        <li>21～40位</li>\\n        <li>41～60位</li>\\n      </ul>\\n    </div>\\n\\n    <div id=\"jn_ranking_search-rank-main-0\" class=\"content-box jn_ranking search-rank-main open\">\\n      <div class=\"content-box-in col2\">\\n        <ol class=\"list-rank-a open\">\\n          <li> <a href=\"/jn/132075/meaning/m0u/\">\\n            <ul class=\"list-rank-a-unit\">\\n              <li class=\"rank side-rank-text-b\">1位</li>\\n              <li class=\"title in-side-ttl-b\">忖度</li>\\n            </ul>\\n          </a></li>\\n          <li> <a href=\"/jn/170895/meaning/m0u/\">\\n            <ul class=\"list-rank-a-unit\">\\n              <li class=\"rank side-rank-text-b\">2位</li>\\n              <li class=\"title in-side-ttl-b\">年季が入る</li>\\n            </ul>\\n          </a></li>\\n          <li> <a href=\"/jn/141662/meaning/m0u/\">\\n            <ul class=\"list-rank-a-unit\">\\n              <li class=\"rank side-rank-text-b\">3位</li>\\n              <li class=\"title in-side-ttl-b\">血潮</li>\\n            </ul>\\n          </a></li>\\n          <li> <a href=\"/jn/51478/meaning/m0u/\">\\n            <ul class=\"list-rank-a-unit\">\\n              <li class=\"rank side-rank-text-b\">4位</li>\\n              <li class=\"title in-side-ttl-b\">ぎこちない</li>\\n            </ul>\\n          </a></li>\\n          <li> <a href=\"/jn/30626/meaning/m0u/\">\\n            <ul class=\"list-rank-a-unit\">\\n              <li class=\"rank side-rank-text-b\">5位</li>\\n              <li class=\"title in-side-ttl-b\">痴がましい</li>\\n            </ul>\\n          </a></li>\\n          <li> <a href=\"/jn/137798/meaning/m0u/\">\\n            <ul class=\"list-rank-a-unit\">\\n              <li class=\"rank side-rank-text-b\">6位</li>\\n              <li class=\"title in-side-ttl-b\">たどたどしい</li>\\n            </ul>\\n          </a></li>\\n          <li> <a href=\"/jn/219508/meaning/m0u/\">\\n            <ul class=\"list-rank-a-unit\">\\n              <li class=\"rank side-rank-text-b\">7位</li>\\n              <li class=\"title in-side-ttl-b\">持て余す</li>\\n            </ul>\\n          </a></li>\\n          <li> <a href=\"/jn/163905/meaning/m0u/\">\\n            <ul class=\"list-rank-a-unit\">\\n              <li class=\"rank side-rank-text-b\">8位</li>\\n              <li class=\"title in-side-ttl-b\">情け無い</li>\\n            </ul>\\n          </a></li>\\n          <li> <a href=\"/jn/53816/meaning/m0u/\">\\n            <ul class=\"list-rank-a-unit\">\\n              <li class=\"rank side-rank-text-b\">9位</li>\\n              <li class=\"title in-side-ttl-b\">気前がよい</li>\\n            </ul>\\n          </a></li>\\n          <li> <a href=\"/jn/6403/meaning/m0u/\">\\n            <ul class=\"list-rank-a-unit\">\\n              <li class=\"rank side-rank-text-b\">10位</li>\\n              <li class=\"title in-side-ttl-b\">天の邪鬼</li>\\n            </ul>\\n          </a></li>\\n        </ol>\\n      </div>\\n      <div class=\"content-box-in col2\">\\n        <ol class=\"list-rank-a open\">\\n          <li> <a href=\"/jn/106975/meaning/m0u/\">\\n            <ul class=\"list-rank-a-unit\">\\n              <li class=\"rank side-rank-text-b\">11位</li>\\n              <li class=\"title in-side-ttl-b\">俊敏</li>\\n            </ul>\\n          </a></li>\\n          <li> <a href=\"/jn/10281/meaning/m0u/\">\\n            <ul class=\"list-rank-a-unit\">\\n              <li class=\"rank side-rank-text-b\">12位</li>\\n              <li class=\"title in-side-ttl-b\">息を呑む</li>\\n            </ul>\\n          </a></li>\\n          <li> <a href=\"/jn/222502/meaning/m0u/\">\\n            <ul class=\"list-rank-a-unit\">\\n              <li class=\"rank side-rank-text-b\">13位</li>\\n              <li class=\"title in-side-ttl-b\">吝か</li>\\n            </ul>\\n          </a></li>\\n          <li> <a href=\"/jn/159608/meaning/m0u/\">\\n            <ul class=\"list-rank-a-unit\">\\n              <li class=\"rank side-rank-text-b\">14位</li>\\n              <li class=\"title in-side-ttl-b\">滞る</li>\\n            </ul>\\n          </a></li>\\n          <li> <a href=\"/jn/223381/meaning/m0u/\">\\n            <ul class=\"list-rank-a-unit\">\\n              <li class=\"rank side-rank-text-b\">15位</li>\\n              <li class=\"title in-side-ttl-b\">遣り過ごす</li>\\n            </ul>\\n          </a></li>\\n          <li> <a href=\"/jn/1279/meaning/m0u/\">\\n            <ul class=\"list-rank-a-unit\">\\n              <li class=\"rank side-rank-text-b\">16位</li>\\n              <li class=\"title in-side-ttl-b\">逢い引き</li>\\n            </ul>\\n          </a></li>\\n          <li> <a href=\"/jn/220106/meaning/m0u/\">\\n            <ul class=\"list-rank-a-unit\">\\n              <li class=\"rank side-rank-text-b\">17位</li>\\n              <li class=\"title in-side-ttl-b\">模倣</li>\\n            </ul>\\n          </a></li>\\n          <li> <a href=\"/jn/14092/meaning/m0u/\">\\n            <ul class=\"list-rank-a-unit\">\\n              <li class=\"rank side-rank-text-b\">18位</li>\\n              <li class=\"title in-side-ttl-b\">暇乞い</li>\\n            </ul>\\n          </a></li>\\n          <li> <a href=\"/jn/110934/meaning/m0u/\">\\n            <ul class=\"list-rank-a-unit\">\\n              <li class=\"rank side-rank-text-b\">19位</li>\\n              <li class=\"title in-side-ttl-b\">贖罪</li>\\n            </ul>\\n          </a></li>\\n          <li> <a href=\"/jn/124148/meaning/m0u/\">\\n            <ul class=\"list-rank-a-unit\">\\n              <li class=\"rank side-rank-text-b\">20位</li>\\n              <li class=\"title in-side-ttl-b\">節を屈する</li>\\n            </ul>\\n          </a></li>\\n        </ol>\\n      </div>\\n    <!-- search-rank-main -->\\n    </div>\\n\\n    <div id=\"jn_ranking_search-rank-main-1\" class=\"content-box jn_ranking search-rank-main\">\\n      <div class=\"content-box-in col2\">\\n        <ol class=\"list-rank-a open\">\\n          <li> <a href=\"/jn/20888/meaning/m0u/\">\\n            <ul class=\"list-rank-a-unit\">\\n              <li class=\"rank side-rank-text-b\">21位</li>\\n              <li class=\"title in-side-ttl-b\">恨めしい</li>\\n            </ul>\\n          </a></li>\\n          <li> <a href=\"/jn/248725/meaning/m0u/\">\\n            <ul class=\"list-rank-a-unit\">\\n              <li class=\"rank side-rank-text-b\">22位</li>\\n              <li class=\"title in-side-ttl-b\">レガシー</li>\\n            </ul>\\n          </a></li>\\n          <li> <a href=\"/jn/120155/meaning/m0u/\">\\n            <ul class=\"list-rank-a-unit\">\\n              <li class=\"rank side-rank-text-b\">23位</li>\\n              <li class=\"title in-side-ttl-b\">住めば都</li>\\n            </ul>\\n          </a></li>\\n          <li> <a href=\"/jn/168571/meaning/m0u/\">\\n            <ul class=\"list-rank-a-unit\">\\n              <li class=\"rank side-rank-text-b\">24位</li>\\n              <li class=\"title in-side-ttl-b\">女人禁制</li>\\n            </ul>\\n          </a></li>\\n          <li> <a href=\"/jn/164917/meaning/m0u/\">\\n            <ul class=\"list-rank-a-unit\">\\n              <li class=\"rank side-rank-text-b\">25位</li>\\n              <li class=\"title in-side-ttl-b\">生温い</li>\\n            </ul>\\n          </a></li>\\n          <li> <a href=\"/jn/42862/meaning/m0u/\">\\n            <ul class=\"list-rank-a-unit\">\\n              <li class=\"rank side-rank-text-b\">26位</li>\\n              <li class=\"title in-side-ttl-b\">葛藤</li>\\n            </ul>\\n          </a></li>\\n          <li> <a href=\"/jn/246275/meaning/m0u/\">\\n            <ul class=\"list-rank-a-unit\">\\n              <li class=\"rank side-rank-text-b\">27位</li>\\n              <li class=\"title in-side-ttl-b\">恣意的</li>\\n            </ul>\\n          </a></li>\\n          <li> <a href=\"/jn/44470/meaning/m0u/\">\\n            <ul class=\"list-rank-a-unit\">\\n              <li class=\"rank side-rank-text-b\">28位</li>\\n              <li class=\"title in-side-ttl-b\">か細い</li>\\n            </ul>\\n          </a></li>\\n          <li> <a href=\"/jn/124757/meaning/m0u/\">\\n            <ul class=\"list-rank-a-unit\">\\n              <li class=\"rank side-rank-text-b\">29位</li>\\n              <li class=\"title in-side-ttl-b\">刹那</li>\\n            </ul>\\n          </a></li>\\n          <li> <a href=\"/jn/162849/meaning/m0u/\">\\n            <ul class=\"list-rank-a-unit\">\\n              <li class=\"rank side-rank-text-b\">30位</li>\\n              <li class=\"title in-side-ttl-b\">長い物には巻かれよ</li>\\n            </ul>\\n          </a></li>\\n        </ol>\\n      </div>\\n      <div class=\"content-box-in col2\">\\n        <ol class=\"list-rank-a open\">\\n          <li> <a href=\"/jn/131650/meaning/m0u/\">\\n            <ul class=\"list-rank-a-unit\">\\n              <li class=\"rank side-rank-text-b\">31位</li>\\n              <li class=\"title in-side-ttl-b\">諳んずる</li>\\n            </ul>\\n          </a></li>\\n          <li> <a href=\"/jn/105105/meaning/m0u/\">\\n            <ul class=\"list-rank-a-unit\">\\n              <li class=\"rank side-rank-text-b\">32位</li>\\n              <li class=\"title in-side-ttl-b\">淑女</li>\\n            </ul>\\n          </a></li>\\n          <li> <a href=\"/jn/56305/meaning/m0u/\">\\n            <ul class=\"list-rank-a-unit\">\\n              <li class=\"rank side-rank-text-b\">33位</li>\\n              <li class=\"title in-side-ttl-b\">矜持</li>\\n            </ul>\\n          </a></li>\\n          <li> <a href=\"/jn/89997/meaning/m0u/\">\\n            <ul class=\"list-rank-a-unit\">\\n              <li class=\"rank side-rank-text-b\">34位</li>\\n              <li class=\"title in-side-ttl-b\">爽やか</li>\\n            </ul>\\n          </a></li>\\n          <li> <a href=\"/jn/80862/meaning/m0u/\">\\n            <ul class=\"list-rank-a-unit\">\\n              <li class=\"rank side-rank-text-b\">35位</li>\\n              <li class=\"title in-side-ttl-b\">熟す</li>\\n            </ul>\\n          </a></li>\\n          <li> <a href=\"/jn/216423/meaning/m0u/\">\\n            <ul class=\"list-rank-a-unit\">\\n              <li class=\"rank side-rank-text-b\">36位</li>\\n              <li class=\"title in-side-ttl-b\">目を丸くする</li>\\n            </ul>\\n          </a></li>\\n          <li> <a href=\"/jn/210339/meaning/m0u/\">\\n            <ul class=\"list-rank-a-unit\">\\n              <li class=\"rank side-rank-text-b\">37位</li>\\n              <li class=\"title in-side-ttl-b\">満喫</li>\\n            </ul>\\n          </a></li>\\n          <li> <a href=\"/jn/97291/meaning/m0u/\">\\n            <ul class=\"list-rank-a-unit\">\\n              <li class=\"rank side-rank-text-b\">38位</li>\\n              <li class=\"title in-side-ttl-b\">自尊心</li>\\n            </ul>\\n          </a></li>\\n          <li> <a href=\"/jn/75459/meaning/m0u/\">\\n            <ul class=\"list-rank-a-unit\">\\n              <li class=\"rank side-rank-text-b\">39位</li>\\n              <li class=\"title in-side-ttl-b\">合理的</li>\\n            </ul>\\n          </a></li>\\n          <li> <a href=\"/jn/194723/meaning/m0u/\">\\n            <ul class=\"list-rank-a-unit\">\\n              <li class=\"rank side-rank-text-b\">40位</li>\\n              <li class=\"title in-side-ttl-b\">不毛</li>\\n            </ul>\\n          </a></li>\\n        </ol>\\n      </div>\\n    <!-- search-rank-main -->\\n    </div>\\n\\n    <div id=\"jn_ranking_search-rank-main-2\" class=\"content-box jn_ranking search-rank-main\">\\n      <div class=\"content-box-in col2\">\\n        <ol class=\"list-rank-a open\">\\n          <li> <a href=\"/jn/179591/meaning/m0u/\">\\n            <ul class=\"list-rank-a-unit\">\\n              <li class=\"rank side-rank-text-b\">41位</li>\\n              <li class=\"title in-side-ttl-b\">逸る</li>\\n            </ul>\\n          </a></li>\\n          <li> <a href=\"/jn/137295/meaning/m0u/\">\\n            <ul class=\"list-rank-a-unit\">\\n              <li class=\"rank side-rank-text-b\">42位</li>\\n              <li class=\"title in-side-ttl-b\">達者</li>\\n            </ul>\\n          </a></li>\\n          <li> <a href=\"/jn/47588/meaning/m0u/\">\\n            <ul class=\"list-rank-a-unit\">\\n              <li class=\"rank side-rank-text-b\">43位</li>\\n              <li class=\"title in-side-ttl-b\">感慨深い</li>\\n            </ul>\\n          </a></li>\\n          <li> <a href=\"/jn/172705/meaning/m0u/\">\\n            <ul class=\"list-rank-a-unit\">\\n              <li class=\"rank side-rank-text-b\">44位</li>\\n              <li class=\"title in-side-ttl-b\">惚気る</li>\\n            </ul>\\n          </a></li>\\n          <li> <a href=\"/jn/233447/meaning/m0u/\">\\n            <ul class=\"list-rank-a-unit\">\\n              <li class=\"rank side-rank-text-b\">45位</li>\\n              <li class=\"title in-side-ttl-b\">倫理</li>\\n            </ul>\\n          </a></li>\\n          <li> <a href=\"/jn/110265/meaning/m0u/\">\\n            <ul class=\"list-rank-a-unit\">\\n              <li class=\"rank side-rank-text-b\">46位</li>\\n              <li class=\"title in-side-ttl-b\">正面</li>\\n            </ul>\\n          </a></li>\\n          <li> <a href=\"/jn/201309/meaning/m0u/\">\\n            <ul class=\"list-rank-a-unit\">\\n              <li class=\"rank side-rank-text-b\">47位</li>\\n              <li class=\"title in-side-ttl-b\">放棄</li>\\n            </ul>\\n          </a></li>\\n          <li> <a href=\"/jn/77715/meaning/m0u/\">\\n            <ul class=\"list-rank-a-unit\">\\n              <li class=\"rank side-rank-text-b\">48位</li>\\n              <li class=\"title in-side-ttl-b\">虎穴に入らずんば虎子を得ず</li>\\n            </ul>\\n          </a></li>\\n          <li> <a href=\"/jn/36106/meaning/m0u/\">\\n            <ul class=\"list-rank-a-unit\">\\n              <li class=\"rank side-rank-text-b\">49位</li>\\n              <li class=\"title in-side-ttl-b\">甲斐性</li>\\n            </ul>\\n          </a></li>\\n          <li> <a href=\"/jn/109190/meaning/m0u/\">\\n            <ul class=\"list-rank-a-unit\">\\n              <li class=\"rank side-rank-text-b\">50位</li>\\n              <li class=\"title in-side-ttl-b\">焦燥</li>\\n            </ul>\\n          </a></li>\\n        </ol>\\n      </div>\\n      <div class=\"content-box-in col2\">\\n        <ol class=\"list-rank-a open\">\\n          <li> <a href=\"/jn/174852/meaning/m0u/\">\\n            <ul class=\"list-rank-a-unit\">\\n              <li class=\"rank side-rank-text-b\">51位</li>\\n              <li class=\"title in-side-ttl-b\">計る</li>\\n            </ul>\\n          </a></li>\\n          <li> <a href=\"/jn/175104/meaning/m0u/\">\\n            <ul class=\"list-rank-a-unit\">\\n              <li class=\"rank side-rank-text-b\">52位</li>\\n              <li class=\"title in-side-ttl-b\">育む</li>\\n            </ul>\\n          </a></li>\\n          <li> <a href=\"/jn/12981/meaning/m0u/\">\\n            <ul class=\"list-rank-a-unit\">\\n              <li class=\"rank side-rank-text-b\">53位</li>\\n              <li class=\"title in-side-ttl-b\">一蓮托生</li>\\n            </ul>\\n          </a></li>\\n          <li> <a href=\"/jn/108957/meaning/m0u/\">\\n            <ul class=\"list-rank-a-unit\">\\n              <li class=\"rank side-rank-text-b\">54位</li>\\n              <li class=\"title in-side-ttl-b\">精進</li>\\n            </ul>\\n          </a></li>\\n          <li> <a href=\"/jn/198725/meaning/m0u/\">\\n            <ul class=\"list-rank-a-unit\">\\n              <li class=\"rank side-rank-text-b\">55位</li>\\n              <li class=\"title in-side-ttl-b\">べからず</li>\\n            </ul>\\n          </a></li>\\n          <li> <a href=\"/jn/125192/meaning/m0u/\">\\n            <ul class=\"list-rank-a-unit\">\\n              <li class=\"rank side-rank-text-b\">56位</li>\\n              <li class=\"title in-side-ttl-b\">鬩ぎ合う</li>\\n            </ul>\\n          </a></li>\\n          <li> <a href=\"/jn/109372/meaning/m0u/\">\\n            <ul class=\"list-rank-a-unit\">\\n              <li class=\"rank side-rank-text-b\">57位</li>\\n              <li class=\"title in-side-ttl-b\">情緒</li>\\n            </ul>\\n          </a></li>\\n          <li> <a href=\"/jn/120865/meaning/m0u/\">\\n            <ul class=\"list-rank-a-unit\">\\n              <li class=\"rank side-rank-text-b\">58位</li>\\n              <li class=\"title in-side-ttl-b\">精を出す</li>\\n            </ul>\\n          </a></li>\\n          <li> <a href=\"/jn/10940/meaning/m0u/\">\\n            <ul class=\"list-rank-a-unit\">\\n              <li class=\"rank side-rank-text-b\">59位</li>\\n              <li class=\"title in-side-ttl-b\">潔しとしない</li>\\n            </ul>\\n          </a></li>\\n          <li> <a href=\"/jn/146266/meaning/m0u/\">\\n            <ul class=\"list-rank-a-unit\">\\n              <li class=\"rank side-rank-text-b\">60位</li>\\n              <li class=\"title in-side-ttl-b\">通算</li>\\n            </ul>\\n          </a></li>\\n        </ol>\\n      </div>\\n    </div>\\n    <div>\\n        <p class=\"more\"><a href=\"/jn/ranking/\">過去の検索ランキングを見る</a></p>\\n    </div>\\n  <!-- contents-wrap-a-in --></div>\\n</section>\\n<!-- ランキング -->\\r\\n\\r\\n            <!-- ランキング -->\\n<section>\\n  <div class=\"section contents-wrap-a-in linkbar\">\\n    <h3 class=\"ttl-f first\"><a href=\"/en/\">英和・和英辞書</a> <span class=\"sup\">5/8更新</span></h3>\\n    <div class=\"tab-wrap-b\">\\n      <ul class=\"list-tab-b-top cx en_ranking\" data-id=\"en_ranking\">\\n        <li class=\"NR-now\">1～20位</li>\\n        <li>21～40位</li>\\n        <li>41～60位</li>\\n      </ul>\\n    </div>\\n\\n    <div id=\"en_ranking_search-rank-main-0\" class=\"content-box en_ranking search-rank-main open\">\\n      <div class=\"content-box-in col2\">\\n        <ol class=\"list-rank-a open\">\\n          <li> <a href=\"/ej/86774/meaning/m0u/\">\\n            <ul class=\"list-rank-a-unit\">\\n              <li class=\"rank side-rank-text-b\">1位</li>\\n              <li class=\"title in-side-ttl-b\">to</li>\\n            </ul>\\n          </a></li>\\n          <li> <a href=\"/ej/33042/meaning/m0u/\">\\n            <ul class=\"list-rank-a-unit\">\\n              <li class=\"rank side-rank-text-b\">2位</li>\\n              <li class=\"title in-side-ttl-b\">for</li>\\n            </ul>\\n          </a></li>\\n          <li> <a href=\"/ej/95083/meaning/m0u/\">\\n            <ul class=\"list-rank-a-unit\">\\n              <li class=\"rank side-rank-text-b\">3位</li>\\n              <li class=\"title in-side-ttl-b\">with</li>\\n            </ul>\\n          </a></li>\\n          <li> <a href=\"/ej/29713/meaning/m0u/\">\\n            <ul class=\"list-rank-a-unit\">\\n              <li class=\"rank side-rank-text-b\">4位</li>\\n              <li class=\"title in-side-ttl-b\">export</li>\\n            </ul>\\n          </a></li>\\n          <li> <a href=\"/ej/52467/meaning/m0u/\">\\n            <ul class=\"list-rank-a-unit\">\\n              <li class=\"rank side-rank-text-b\">5位</li>\\n              <li class=\"title in-side-ttl-b\">may</li>\\n            </ul>\\n          </a></li>\\n          <li> <a href=\"/ej/66415/meaning/m0u/\">\\n            <ul class=\"list-rank-a-unit\">\\n              <li class=\"rank side-rank-text-b\">6位</li>\\n              <li class=\"title in-side-ttl-b\">present</li>\\n            </ul>\\n          </a></li>\\n          <li> <a href=\"/ej/58726/meaning/m0u/\">\\n            <ul class=\"list-rank-a-unit\">\\n              <li class=\"rank side-rank-text-b\">7位</li>\\n              <li class=\"title in-side-ttl-b\">oh</li>\\n            </ul>\\n          </a></li>\\n          <li> <a href=\"/ej/1335/meaning/m0u/\">\\n            <ul class=\"list-rank-a-unit\">\\n              <li class=\"rank side-rank-text-b\">8位</li>\\n              <li class=\"title in-side-ttl-b\">I\\'m afraid/I\\'m afraid that</li>\\n            </ul>\\n          </a></li>\\n          <li> <a href=\"/ej/35637/meaning/m0u/\">\\n            <ul class=\"list-rank-a-unit\">\\n              <li class=\"rank side-rank-text-b\">9位</li>\\n              <li class=\"title in-side-ttl-b\">get</li>\\n            </ul>\\n          </a></li>\\n          <li> <a href=\"/ej/7199/meaning/m0u/\">\\n            <ul class=\"list-rank-a-unit\">\\n              <li class=\"rank side-rank-text-b\">10位</li>\\n              <li class=\"title in-side-ttl-b\">be</li>\\n            </ul>\\n          </a></li>\\n        </ol>\\n      </div>\\n      <div class=\"content-box-in col2\">\\n        <ol class=\"list-rank-a open\">\\n          <li> <a href=\"/ej/14302/meaning/m0u/\">\\n            <ul class=\"list-rank-a-unit\">\\n              <li class=\"rank side-rank-text-b\">11位</li>\\n              <li class=\"title in-side-ttl-b\">celebrate</li>\\n            </ul>\\n          </a></li>\\n          <li> <a href=\"/ej/52565/meaning/m0u/\">\\n            <ul class=\"list-rank-a-unit\">\\n              <li class=\"rank side-rank-text-b\">12位</li>\\n              <li class=\"title in-side-ttl-b\">mean</li>\\n            </ul>\\n          </a></li>\\n          <li> <a href=\"/ej/49454/meaning/m0u/\">\\n            <ul class=\"list-rank-a-unit\">\\n              <li class=\"rank side-rank-text-b\">13位</li>\\n              <li class=\"title in-side-ttl-b\">would like/should like</li>\\n            </ul>\\n          </a></li>\\n          <li> <a href=\"/ej/39157/meaning/m0u/\">\\n            <ul class=\"list-rank-a-unit\">\\n              <li class=\"rank side-rank-text-b\">14位</li>\\n              <li class=\"title in-side-ttl-b\">have</li>\\n            </ul>\\n          </a></li>\\n          <li> <a href=\"/ej/21680/meaning/m0u/\">\\n            <ul class=\"list-rank-a-unit\">\\n              <li class=\"rank side-rank-text-b\">15位</li>\\n              <li class=\"title in-side-ttl-b\">darling</li>\\n            </ul>\\n          </a></li>\\n          <li> <a href=\"/ej/4595/meaning/m0u/\">\\n            <ul class=\"list-rank-a-unit\">\\n              <li class=\"rank side-rank-text-b\">16位</li>\\n              <li class=\"title in-side-ttl-b\">as</li>\\n            </ul>\\n          </a></li>\\n          <li> <a href=\"/je/65910/meaning/m0u/\">\\n            <ul class=\"list-rank-a-unit\">\\n              <li class=\"rank side-rank-text-b\">17位</li>\\n              <li class=\"title in-side-ttl-b\">ふじ【藤】</li>\\n            </ul>\\n          </a></li>\\n          <li> <a href=\"/ej/16042/meaning/m0u/\">\\n            <ul class=\"list-rank-a-unit\">\\n              <li class=\"rank side-rank-text-b\">18位</li>\\n              <li class=\"title in-side-ttl-b\">circumstance</li>\\n            </ul>\\n          </a></li>\\n          <li> <a href=\"/ej/66418/meaning/m0u/\">\\n            <ul class=\"list-rank-a-unit\">\\n              <li class=\"rank side-rank-text-b\">19位</li>\\n              <li class=\"title in-side-ttl-b\">present</li>\\n            </ul>\\n          </a></li>\\n          <li> <a href=\"/je/71124/meaning/m0u/\">\\n            <ul class=\"list-rank-a-unit\">\\n              <li class=\"rank side-rank-text-b\">20位</li>\\n              <li class=\"title in-side-ttl-b\">ほんやくする【翻訳する】</li>\\n            </ul>\\n          </a></li>\\n        </ol>\\n      </div>\\n    <!-- search-rank-main -->\\n    </div>\\n\\n    <div id=\"en_ranking_search-rank-main-1\" class=\"content-box en_ranking search-rank-main\">\\n      <div class=\"content-box-in col2\">\\n        <ol class=\"list-rank-a open\">\\n          <li> <a href=\"/ej/48575/meaning/m0u/\">\\n            <ul class=\"list-rank-a-unit\">\\n              <li class=\"rank side-rank-text-b\">21位</li>\\n              <li class=\"title in-side-ttl-b\">leave</li>\\n            </ul>\\n          </a></li>\\n          <li> <a href=\"/je/45609/meaning/m0u/\">\\n            <ul class=\"list-rank-a-unit\">\\n              <li class=\"rank side-rank-text-b\">22位</li>\\n              <li class=\"title in-side-ttl-b\">たかをくくる【高をくくる】</li>\\n            </ul>\\n          </a></li>\\n          <li> <a href=\"/ej/84202/meaning/m0u/\">\\n            <ul class=\"list-rank-a-unit\">\\n              <li class=\"rank side-rank-text-b\">23位</li>\\n              <li class=\"title in-side-ttl-b\">take</li>\\n            </ul>\\n          </a></li>\\n          <li> <a href=\"/ej/11240/meaning/m0u/\">\\n            <ul class=\"list-rank-a-unit\">\\n              <li class=\"rank side-rank-text-b\">24位</li>\\n              <li class=\"title in-side-ttl-b\">bring</li>\\n            </ul>\\n          </a></li>\\n          <li> <a href=\"/je/34266/meaning/m0u/\">\\n            <ul class=\"list-rank-a-unit\">\\n              <li class=\"rank side-rank-text-b\">25位</li>\\n              <li class=\"title in-side-ttl-b\">じゅぎょう【授業】</li>\\n            </ul>\\n          </a></li>\\n          <li> <a href=\"/ej/7281/meaning/m0u/\">\\n            <ul class=\"list-rank-a-unit\">\\n              <li class=\"rank side-rank-text-b\">26位</li>\\n              <li class=\"title in-side-ttl-b\">bear</li>\\n            </ul>\\n          </a></li>\\n          <li> <a href=\"/ej/30305/meaning/m0u/\">\\n            <ul class=\"list-rank-a-unit\">\\n              <li class=\"rank side-rank-text-b\">27位</li>\\n              <li class=\"title in-side-ttl-b\">fall</li>\\n            </ul>\\n          </a></li>\\n          <li> <a href=\"/ej/36267/meaning/m0u/\">\\n            <ul class=\"list-rank-a-unit\">\\n              <li class=\"rank side-rank-text-b\">28位</li>\\n              <li class=\"title in-side-ttl-b\">go</li>\\n            </ul>\\n          </a></li>\\n          <li> <a href=\"/ej/41742/meaning/m0u/\">\\n            <ul class=\"list-rank-a-unit\">\\n              <li class=\"rank side-rank-text-b\">29位</li>\\n              <li class=\"title in-side-ttl-b\">how</li>\\n            </ul>\\n          </a></li>\\n          <li> <a href=\"/ej/71578/meaning/m0u/\">\\n            <ul class=\"list-rank-a-unit\">\\n              <li class=\"rank side-rank-text-b\">30位</li>\\n              <li class=\"title in-side-ttl-b\">right</li>\\n            </ul>\\n          </a></li>\\n        </ol>\\n      </div>\\n      <div class=\"content-box-in col2\">\\n        <ol class=\"list-rank-a open\">\\n          <li> <a href=\"/ej/17621/meaning/m0u/\">\\n            <ul class=\"list-rank-a-unit\">\\n              <li class=\"rank side-rank-text-b\">31位</li>\\n              <li class=\"title in-side-ttl-b\">come</li>\\n            </ul>\\n          </a></li>\\n          <li> <a href=\"/ej/10247/meaning/m0u/\">\\n            <ul class=\"list-rank-a-unit\">\\n              <li class=\"rank side-rank-text-b\">32位</li>\\n              <li class=\"title in-side-ttl-b\">boost</li>\\n            </ul>\\n          </a></li>\\n          <li> <a href=\"/ej/34043/meaning/m0u/\">\\n            <ul class=\"list-rank-a-unit\">\\n              <li class=\"rank side-rank-text-b\">33位</li>\\n              <li class=\"title in-side-ttl-b\">from</li>\\n            </ul>\\n          </a></li>\\n          <li> <a href=\"/ej/40809/meaning/m0u/\">\\n            <ul class=\"list-rank-a-unit\">\\n              <li class=\"rank side-rank-text-b\">34位</li>\\n              <li class=\"title in-side-ttl-b\">hold</li>\\n            </ul>\\n          </a></li>\\n          <li> <a href=\"/ej/52537/meaning/m0u/\">\\n            <ul class=\"list-rank-a-unit\">\\n              <li class=\"rank side-rank-text-b\">35位</li>\\n              <li class=\"title in-side-ttl-b\">me</li>\\n            </ul>\\n          </a></li>\\n          <li> <a href=\"/ej/58587/meaning/m0u/\">\\n            <ul class=\"list-rank-a-unit\">\\n              <li class=\"rank side-rank-text-b\">36位</li>\\n              <li class=\"title in-side-ttl-b\">of</li>\\n            </ul>\\n          </a></li>\\n          <li> <a href=\"/ej/13012/meaning/m0u/\">\\n            <ul class=\"list-rank-a-unit\">\\n              <li class=\"rank side-rank-text-b\">37位</li>\\n              <li class=\"title in-side-ttl-b\">can</li>\\n            </ul>\\n          </a></li>\\n          <li> <a href=\"/ej/86099/meaning/m0u/\">\\n            <ul class=\"list-rank-a-unit\">\\n              <li class=\"rank side-rank-text-b\">38位</li>\\n              <li class=\"title in-side-ttl-b\">through</li>\\n            </ul>\\n          </a></li>\\n          <li> <a href=\"/je/33131/meaning/m0u/\">\\n            <ul class=\"list-rank-a-unit\">\\n              <li class=\"rank side-rank-text-b\">39位</li>\\n              <li class=\"title in-side-ttl-b\">しゃしん【写真】</li>\\n            </ul>\\n          </a></li>\\n          <li> <a href=\"/ej/81581/meaning/m0u/\">\\n            <ul class=\"list-rank-a-unit\">\\n              <li class=\"rank side-rank-text-b\">40位</li>\\n              <li class=\"title in-side-ttl-b\">still</li>\\n            </ul>\\n          </a></li>\\n        </ol>\\n      </div>\\n    <!-- search-rank-main -->\\n    </div>\\n\\n    <div id=\"en_ranking_search-rank-main-2\" class=\"content-box en_ranking search-rank-main\">\\n      <div class=\"content-box-in col2\">\\n        <ol class=\"list-rank-a open\">\\n          <li> <a href=\"/edc/4000206101/meaning/m0u/\">\\n            <ul class=\"list-rank-a-unit\">\\n              <li class=\"rank side-rank-text-b\">41位</li>\\n              <li class=\"title in-side-ttl-b\">やりすごす【やり過ごす】</li>\\n            </ul>\\n          </a></li>\\n          <li> <a href=\"/ej/25660/meaning/m0u/\">\\n            <ul class=\"list-rank-a-unit\">\\n              <li class=\"rank side-rank-text-b\">42位</li>\\n              <li class=\"title in-side-ttl-b\">draw</li>\\n            </ul>\\n          </a></li>\\n          <li> <a href=\"/ej/48337/meaning/m0u/\">\\n            <ul class=\"list-rank-a-unit\">\\n              <li class=\"rank side-rank-text-b\">43位</li>\\n              <li class=\"title in-side-ttl-b\">lay</li>\\n            </ul>\\n          </a></li>\\n          <li> <a href=\"/ej/49451/meaning/m0u/\">\\n            <ul class=\"list-rank-a-unit\">\\n              <li class=\"rank side-rank-text-b\">44位</li>\\n              <li class=\"title in-side-ttl-b\">like</li>\\n            </ul>\\n          </a></li>\\n          <li> <a href=\"/ej/83796/meaning/m0u/\">\\n            <ul class=\"list-rank-a-unit\">\\n              <li class=\"rank side-rank-text-b\">45位</li>\\n              <li class=\"title in-side-ttl-b\">swoosh</li>\\n            </ul>\\n          </a></li>\\n          <li> <a href=\"/ej/95222/meaning/m0u/\">\\n            <ul class=\"list-rank-a-unit\">\\n              <li class=\"rank side-rank-text-b\">46位</li>\\n              <li class=\"title in-side-ttl-b\">wonder</li>\\n            </ul>\\n          </a></li>\\n          <li> <a href=\"/ej/32835/meaning/m0u/\">\\n            <ul class=\"list-rank-a-unit\">\\n              <li class=\"rank side-rank-text-b\">47位</li>\\n              <li class=\"title in-side-ttl-b\">follow</li>\\n            </ul>\\n          </a></li>\\n          <li> <a href=\"/ej/35932/meaning/m0u/\">\\n            <ul class=\"list-rank-a-unit\">\\n              <li class=\"rank side-rank-text-b\">48位</li>\\n              <li class=\"title in-side-ttl-b\">give</li>\\n            </ul>\\n          </a></li>\\n          <li> <a href=\"/je/44543/meaning/m0u/\">\\n            <ul class=\"list-rank-a-unit\">\\n              <li class=\"rank side-rank-text-b\">49位</li>\\n              <li class=\"title in-side-ttl-b\">たい【対】</li>\\n            </ul>\\n          </a></li>\\n          <li> <a href=\"/ej/8179/meaning/m0u/\">\\n            <ul class=\"list-rank-a-unit\">\\n              <li class=\"rank side-rank-text-b\">50位</li>\\n              <li class=\"title in-side-ttl-b\">beyond</li>\\n            </ul>\\n          </a></li>\\n        </ol>\\n      </div>\\n      <div class=\"content-box-in col2\">\\n        <ol class=\"list-rank-a open\">\\n          <li> <a href=\"/ej/74072/meaning/m0u/\">\\n            <ul class=\"list-rank-a-unit\">\\n              <li class=\"rank side-rank-text-b\">51位</li>\\n              <li class=\"title in-side-ttl-b\">say</li>\\n            </ul>\\n          </a></li>\\n          <li> <a href=\"/ej/75198/meaning/m0u/\">\\n            <ul class=\"list-rank-a-unit\">\\n              <li class=\"rank side-rank-text-b\">52位</li>\\n              <li class=\"title in-side-ttl-b\">see</li>\\n            </ul>\\n          </a></li>\\n          <li> <a href=\"/ej/79222/meaning/m0u/\">\\n            <ul class=\"list-rank-a-unit\">\\n              <li class=\"rank side-rank-text-b\">53位</li>\\n              <li class=\"title in-side-ttl-b\">something</li>\\n            </ul>\\n          </a></li>\\n          <li> <a href=\"/ej/95418/meaning/m0u/\">\\n            <ul class=\"list-rank-a-unit\">\\n              <li class=\"rank side-rank-text-b\">54位</li>\\n              <li class=\"title in-side-ttl-b\">work</li>\\n            </ul>\\n          </a></li>\\n          <li> <a href=\"/ej/191/meaning/m0u/\">\\n            <ul class=\"list-rank-a-unit\">\\n              <li class=\"rank side-rank-text-b\">55位</li>\\n              <li class=\"title in-side-ttl-b\">about</li>\\n            </ul>\\n          </a></li>\\n          <li> <a href=\"/ej/5821/meaning/m0u/\">\\n            <ul class=\"list-rank-a-unit\">\\n              <li class=\"rank side-rank-text-b\">56位</li>\\n              <li class=\"title in-side-ttl-b\">baby</li>\\n            </ul>\\n          </a></li>\\n          <li> <a href=\"/ej/12428/meaning/m0u/\">\\n            <ul class=\"list-rank-a-unit\">\\n              <li class=\"rank side-rank-text-b\">57位</li>\\n              <li class=\"title in-side-ttl-b\">by</li>\\n            </ul>\\n          </a></li>\\n          <li> <a href=\"/ej/12802/meaning/m0u/\">\\n            <ul class=\"list-rank-a-unit\">\\n              <li class=\"rank side-rank-text-b\">58位</li>\\n              <li class=\"title in-side-ttl-b\">call</li>\\n            </ul>\\n          </a></li>\\n          <li> <a href=\"/ej/51524/meaning/m0u/\">\\n            <ul class=\"list-rank-a-unit\">\\n              <li class=\"rank side-rank-text-b\">59位</li>\\n              <li class=\"title in-side-ttl-b\">make</li>\\n            </ul>\\n          </a></li>\\n          <li> <a href=\"/ej/59426/meaning/m0u/\">\\n            <ul class=\"list-rank-a-unit\">\\n              <li class=\"rank side-rank-text-b\">60位</li>\\n              <li class=\"title in-side-ttl-b\">or</li>\\n            </ul>\\n          </a></li>\\n        </ol>\\n      </div>\\n    </div>\\n    <div>\\n        <p class=\"more\"><a href=\"/en/ranking/\">過去の検索ランキングを見る</a></p>\\n    </div>\\n  <!-- contents-wrap-a-in --></div>\\n</section>\\n<!-- ランキング -->\\r\\n\\r\\n          <!-- section --></div>\\r\\n      </section>\\r\\n\\r\\n      <section>\\r\\n        <div class=\"section contents-wrap-e\">\\r\\n          <h2 class=\"ttl-d\">豆知識</h2>\\r\\n          <!-- SP用広告枠表示 -->\\r\\n                    <!-- SP用広告枠表示 -->\\r\\n\\r\\n          <section>\\r\\n            <div class=\"section\">\\r\\n              <h3 class=\"ttl-f\">goo辞書 おすすめコラム</h3>\\r\\n\\r\\n              <!--topSenryuArea-->\\r\\n              \\r\\n<ul class=\"list-column cx\">\\r\\n  <li>\\r\\n    <ul>\\r\\n      <li class=\"image\"><a href=\"/mistake_english/\"><img src=\"//dictionary.xgoo.jp/img/ph_column_01.jpg\" title=\"間違いやすい英語\" alt=\"間違いやすい英語\"></a></li>\\r\\n      <li class=\"title\"><a href=\"/mistake_english/\">間違いやすい英語</a></li>\\r\\n      <li class=\"description\">ネイティブ英語講師が間違いやすい表現を解説。</li>\\r\\n    </ul>\\r\\n  </li>\\r\\n  <li>\\r\\n    <ul>\\r\\n      <li class=\"image\"><a href=\"/study/incase/\"><img src=\"//dictionary.xgoo.jp/img/ph_column_02.jpg\" title=\"ビジネス文例集\" alt=\"ビジネス文例集\"></a></li>\\r\\n      <li class=\"title\"><a href=\"/study/incase/\">ビジネス文例集</a></li>\\r\\n      <li class=\"description\">日本語と英語、即使える文例350件を紹介。</li>\\r\\n    </ul>\\r\\n  </li>\\r\\n  <li>\\r\\n    <ul>\\r\\n      <li class=\"image\"><a href=\"/quote/\"><img src=\"//dictionary.xgoo.jp/img/ph_column_03.jpg\" title=\"世界の名言・格言\" alt=\"世界の名言・格言\"></a></li>\\r\\n      <li class=\"title\"><a href=\"/quote/\">世界の名言・格言</a></li>\\r\\n      <li class=\"description\">古今東西の偉人、賢人による名言をピックアップ。</li>\\r\\n    </ul>\\r\\n  </li>\\r\\n</ul>\\r              <!--/topSenryuArea-->\\r\\n\\r\\n              <!-- section --></div>\\r\\n          </section>\\r\\n\\r\\n          <!-- section --></div>\\r\\n      </section>\\r\\n\\r\\n      <section>\\r\\n        <div class=\"section contents-wrap-e\">\\r\\n          <h2 class=\"ttl-d\">索引</h2>\\r\\n          <section>\\r\\n            <div class=\"section contents-wrap-a-in\">\\r\\n              <h3 class=\"ttl-f first\">国語辞書の索引</h3>\\r\\n              <div class=\"content-box word\">\\r\\n                <div class=\"content-box-in col3\">\\r\\n                  <ol class=\"list-word cx\">\\r\\n                    <!-- あ -->\\r\\n                    <li><a href=\"/jn/index/%E3%81%82/\">あ</a></li>\\r\\n                    <li><a href=\"/jn/index/%E3%81%84/\">い</a></li>\\r\\n                    <li><a href=\"/jn/index/%E3%81%86/\">う</a></li>\\r\\n                    <li><a href=\"/jn/index/%E3%81%88/\">え</a></li>\\r\\n                    <li><a href=\"/jn/index/%E3%81%8A/\">お</a></li>\\r\\n                  </ol>\\r\\n                </div>\\r\\n                <div class=\"content-box-in col3\">\\r\\n                  <ol class=\"list-word cx\">\\r\\n                    <!-- か -->\\r\\n                    <li><a href=\"/jn/index/%E3%81%8B/\">か</a></li>\\r\\n                    <li><a href=\"/jn/index/%E3%81%8D/\">き</a></li>\\r\\n                    <li><a href=\"/jn/index/%E3%81%8F/\">く</a></li>\\r\\n                    <li><a href=\"/jn/index/%E3%81%91/\">け</a></li>\\r\\n                    <li><a href=\"/jn/index/%E3%81%93/\">こ</a></li>\\r\\n                  </ol>\\r\\n                </div>\\r\\n                <div class=\"content-box-in col3\">\\r\\n                  <ol class=\"list-word cx\">\\r\\n                    <!-- さ -->\\r\\n                    <li><a href=\"/jn/index/%E3%81%95/\">さ</a></li>\\r\\n                    <li><a href=\"/jn/index/%E3%81%97/\">し</a></li>\\r\\n                    <li><a href=\"/jn/index/%E3%81%99/\">す</a></li>\\r\\n                    <li><a href=\"/jn/index/%E3%81%9B/\">せ</a></li>\\r\\n                    <li><a href=\"/jn/index/%E3%81%9D/\">そ</a></li>\\r\\n                  </ol>\\r\\n                </div>\\r\\n                <div class=\"content-box-in col3\">\\r\\n                  <ol class=\"list-word cx\">\\r\\n                    <!-- た -->\\r\\n                    <li><a href=\"/jn/index/%E3%81%9F/\">た</a></li>\\r\\n                    <li><a href=\"/jn/index/%E3%81%A1/\">ち</a></li>\\r\\n                    <li><a href=\"/jn/index/%E3%81%A4/\">つ</a></li>\\r\\n                    <li><a href=\"/jn/index/%E3%81%A6/\">て</a></li>\\r\\n                    <li><a href=\"/jn/index/%E3%81%A8/\">と</a></li>\\r\\n                  </ol>\\r\\n                </div>\\r\\n                <div class=\"content-box-in col3\">\\r\\n                  <ol class=\"list-word cx\">\\r\\n                    <!-- な -->\\r\\n                    <li><a href=\"/jn/index/%E3%81%AA/\">な</a></li>\\r\\n                    <li><a href=\"/jn/index/%E3%81%AB/\">に</a></li>\\r\\n                    <li><a href=\"/jn/index/%E3%81%AC/\">ぬ</a></li>\\r\\n                    <li><a href=\"/jn/index/%E3%81%AD/\">ね</a></li>\\r\\n                    <li><a href=\"/jn/index/%E3%81%AE/\">の</a></li>\\r\\n                  </ol>\\r\\n                </div>\\r\\n                <div class=\"content-box-in col3\">\\r\\n                  <ol class=\"list-word cx\">\\r\\n                    <!-- は -->\\r\\n                    <li><a href=\"/jn/index/%E3%81%AF/\">は</a></li>\\r\\n                    <li><a href=\"/jn/index/%E3%81%B2/\">ひ</a></li>\\r\\n                    <li><a href=\"/jn/index/%E3%81%B5/\">ふ</a></li>\\r\\n                    <li><a href=\"/jn/index/%E3%81%B8/\">へ</a></li>\\r\\n                    <li><a href=\"/jn/index/%E3%81%BB/\">ほ</a></li>\\r\\n                  </ol>\\r\\n                </div>\\r\\n                <div class=\"content-box-in col3\">\\r\\n                  <ol class=\"list-word cx\">\\r\\n                    <!-- ま -->\\r\\n                    <li><a href=\"/jn/index/%E3%81%BE/\">ま</a></li>\\r\\n                    <li><a href=\"/jn/index/%E3%81%BF/\">み</a></li>\\r\\n                    <li><a href=\"/jn/index/%E3%82%80/\">む</a></li>\\r\\n                    <li><a href=\"/jn/index/%E3%82%81/\">め</a></li>\\r\\n                    <li><a href=\"/jn/index/%E3%82%82/\">も</a></li>\\r\\n                  </ol>\\r\\n                </div>\\r\\n                <div class=\"content-box-in col3\">\\r\\n                  <ol class=\"list-word cx\">\\r\\n                    <!-- や -->\\r\\n                    <li><a href=\"/jn/index/%E3%82%84/\">や</a></li>\\r\\n                    <li class=\"blank\"></li>\\r\\n                    <li><a href=\"/jn/index/%E3%82%86/\">ゆ</a></li>\\r\\n                    <li class=\"blank\"></li>\\r\\n                    <li><a href=\"/jn/index/%E3%82%88/\">よ</a></li>\\r\\n                  </ol>\\r\\n                </div>\\r\\n                <div class=\"content-box-in col3\">\\r\\n                  <ol class=\"list-word cx\">\\r\\n                    <!-- ら -->\\r\\n                    <li><a href=\"/jn/index/%E3%82%89/\">ら</a></li>\\r\\n                    <li><a href=\"/jn/index/%E3%82%8A/\">り</a></li>\\r\\n                    <li><a href=\"/jn/index/%E3%82%8B/\">る</a></li>\\r\\n                    <li><a href=\"/jn/index/%E3%82%8C/\">れ</a></li>\\r\\n                    <li><a href=\"/jn/index/%E3%82%8D/\">ろ</a></li>\\r\\n                  </ol>\\r\\n                </div>\\r\\n                <div class=\"content-box-in col3\">\\r\\n                  <ol class=\"list-word cx\">\\r\\n                    <!-- わ -->\\r\\n                    <li><a href=\"/jn/index/%E3%82%8F/\">わ</a></li>\\r\\n                    <li class=\"blank\"></li>\\r\\n                    <li><a href=\"/jn/index/%E3%82%92/\">を</a></li>\\r\\n                    <li class=\"blank\"></li>\\r\\n                    <li><a href=\"/jn/index/%E3%82%93/\">ん</a></li>\\r\\n                  </ol>\\r\\n                </div>\\r\\n                <div class=\"content-box-in col3\">\\r\\n                  <ol class=\"list-word cx\">\\r\\n                    <!-- が -->\\r\\n                    <li><a href=\"/jn/index/%E3%81%8C/\">が</a></li>\\r\\n                    <li><a href=\"/jn/index/%E3%81%8E/\">ぎ</a></li>\\r\\n                    <li><a href=\"/jn/index/%E3%81%90/\">ぐ</a></li>\\r\\n                    <li><a href=\"/jn/index/%E3%81%92/\">げ</a></li>\\r\\n                    <li><a href=\"/jn/index/%E3%81%94/\">ご</a></li>\\r\\n                  </ol>\\r\\n                </div>\\r\\n                <div class=\"content-box-in col3\">\\r\\n                  <ol class=\"list-word cx\">\\r\\n                    <!-- ざ -->\\r\\n                    <li><a href=\"/jn/index/%E3%81%96/\">ざ</a></li>\\r\\n                    <li><a href=\"/jn/index/%E3%81%98/\">じ</a></li>\\r\\n                    <li><a href=\"/jn/index/%E3%81%9A/\">ず</a></li>\\r\\n                    <li><a href=\"/jn/index/%E3%81%9C/\">ぜ</a></li>\\r\\n                    <li><a href=\"/jn/index/%E3%81%9E/\">ぞ</a></li>\\r\\n                  </ol>\\r\\n                </div>\\r\\n                <div class=\"content-box-in col3\">\\r\\n                  <ol class=\"list-word cx\">\\r\\n                    <!-- だ -->\\r\\n                    <li><a href=\"/jn/index/%E3%81%A0/\">だ</a></li>\\r\\n                    <li><a href=\"/jn/index/%E3%81%A2/\">ぢ</a></li>\\r\\n                    <li><a href=\"/jn/index/%E3%81%A5/\">づ</a></li>\\r\\n                    <li><a href=\"/jn/index/%E3%81%A7/\">で</a></li>\\r\\n                    <li><a href=\"/jn/index/%E3%81%A9/\">ど</a></li>\\r\\n                  </ol>\\r\\n                </div>\\r\\n                <div class=\"content-box-in col3\">\\r\\n                  <ol class=\"list-word cx\">\\r\\n                    <!-- ば -->\\r\\n                    <li><a href=\"/jn/index/%E3%81%B0/\">ば</a></li>\\r\\n                    <li><a href=\"/jn/index/%E3%81%B3/\">び</a></li>\\r\\n                    <li><a href=\"/jn/index/%E3%81%B6/\">ぶ</a></li>\\r\\n                    <li><a href=\"/jn/index/%E3%81%B9/\">べ</a></li>\\r\\n                    <li><a href=\"/jn/index/%E3%81%BC/\">ぼ</a></li>\\r\\n                  </ol>\\r\\n                </div>\\r\\n                <div class=\"content-box-in col3\">\\r\\n                  <ol class=\"list-word cx\">\\r\\n                    <!-- ぱ -->\\r\\n                    <li><a href=\"/jn/index/%E3%81%B1/\">ぱ</a></li>\\r\\n                    <li><a href=\"/jn/index/%E3%81%B4/\">ぴ</a></li>\\r\\n                    <li><a href=\"/jn/index/%E3%81%B7/\">ぷ</a></li>\\r\\n                    <li><a href=\"/jn/index/%E3%81%BA/\">ぺ</a></li>\\r\\n                    <li><a href=\"/jn/index/%E3%81%BD/\">ぽ</a></li>\\r\\n                  </ol>\\r\\n                </div>\\r\\n              </div>\\r\\n              <!-- contents-wrap-a-in --></div>\\r\\n          </section>\\r\\n\\r\\n          <section>\\r\\n            <div class=\"section contents-wrap-a-in margin\">\\r\\n              <h3 class=\"ttl-f\">英和・和英辞書の索引</h3>\\r\\n              <div class=\"content-box word\">\\r\\n                <div class=\"content-box-in col3\">\\r\\n                  <ol class=\"list-word cx\">\\r\\n                    <li><a href=\"/en/index/A/\">A</a></li>\\r\\n                    <li><a href=\"/en/index/B/\">B</a></li>\\r\\n                    <li><a href=\"/en/index/C/\">C</a></li>\\r\\n                    <li><a href=\"/en/index/D/\">D</a></li>\\r\\n                    <li><a href=\"/en/index/E/\">E</a></li>\\r\\n                  </ol>\\r\\n                </div>\\r\\n                <div class=\"content-box-in col3\">\\r\\n                  <ol class=\"list-word cx\">\\r\\n                    <li><a href=\"/en/index/F/\">F</a></li>\\r\\n                    <li><a href=\"/en/index/G/\">G</a></li>\\r\\n                    <li><a href=\"/en/index/H/\">H</a></li>\\r\\n                    <li><a href=\"/en/index/I/\">I</a></li>\\r\\n                    <li><a href=\"/en/index/J/\">J</a></li>\\r\\n                  </ol>\\r\\n                </div>\\r\\n                <div class=\"content-box-in col3\">\\r\\n                  <ol class=\"list-word cx\">\\r\\n                    <li><a href=\"/en/index/K/\">K</a></li>\\r\\n                    <li><a href=\"/en/index/L/\">L</a></li>\\r\\n                    <li><a href=\"/en/index/M/\">M</a></li>\\r\\n                    <li><a href=\"/en/index/N/\">N</a></li>\\r\\n                    <li><a href=\"/en/index/O/\">O</a></li>\\r\\n                  </ol>\\r\\n                </div>\\r\\n                <div class=\"content-box-in col3\">\\r\\n                  <ol class=\"list-word cx\">\\r\\n                    <li><a href=\"/en/index/P/\">P</a></li>\\r\\n                    <li><a href=\"/en/index/Q/\">Q</a></li>\\r\\n                    <li><a href=\"/en/index/R/\">R</a></li>\\r\\n                    <li><a href=\"/en/index/S/\">S</a></li>\\r\\n                    <li><a href=\"/en/index/T/\">T</a></li>\\r\\n                  </ol>\\r\\n                </div>\\r\\n                <div class=\"content-box-in col3\">\\r\\n                  <ol class=\"list-word cx\">\\r\\n                    <li><a href=\"/en/index/U/\">U</a></li>\\r\\n                    <li><a href=\"/en/index/V/\">V</a></li>\\r\\n                    <li><a href=\"/en/index/W/\">W</a></li>\\r\\n                    <li><a href=\"/en/index/X/\">X</a></li>\\r\\n                    <li><a href=\"/en/index/Y/\">Y</a></li>\\r\\n                  </ol>\\r\\n                </div>\\r\\n                <div class=\"content-box-in col3\">\\r\\n                  <ol class=\"list-word cx\">\\r\\n                    <li><a href=\"/en/index/Z/\">Z</a></li>\\r\\n                  </ol>\\r\\n                </div>\\r\\n                <div class=\"content-box-in col3\">\\r\\n                  <ol class=\"list-word cx\">\\r\\n                    <!-- あ -->\\r\\n                    <li><a href=\"/en/index/%E3%81%82/\">あ</a></li>\\r\\n                    <li><a href=\"/en/index/%E3%81%84/\">い</a></li>\\r\\n                    <li><a href=\"/en/index/%E3%81%86/\">う</a></li>\\r\\n                    <li><a href=\"/en/index/%E3%81%88/\">え</a></li>\\r\\n                    <li><a href=\"/en/index/%E3%81%8A/\">お</a></li>\\r\\n                  </ol>\\r\\n                </div>\\r\\n                <div class=\"content-box-in col3\">\\r\\n                  <ol class=\"list-word cx\">\\r\\n                    <!-- か -->\\r\\n                    <li><a href=\"/en/index/%E3%81%8B/\">か</a></li>\\r\\n                    <li><a href=\"/en/index/%E3%81%8D/\">き</a></li>\\r\\n                    <li><a href=\"/en/index/%E3%81%8F/\">く</a></li>\\r\\n                    <li><a href=\"/en/index/%E3%81%91/\">け</a></li>\\r\\n                    <li><a href=\"/en/index/%E3%81%93/\">こ</a></li>\\r\\n                  </ol>\\r\\n                </div>\\r\\n                <div class=\"content-box-in col3\">\\r\\n                  <ol class=\"list-word cx\">\\r\\n                    <!-- さ -->\\r\\n                    <li><a href=\"/en/index/%E3%81%95/\">さ</a></li>\\r\\n                    <li><a href=\"/en/index/%E3%81%97/\">し</a></li>\\r\\n                    <li><a href=\"/en/index/%E3%81%99/\">す</a></li>\\r\\n                    <li><a href=\"/en/index/%E3%81%9B/\">せ</a></li>\\r\\n                    <li><a href=\"/en/index/%E3%81%9D/\">そ</a></li>\\r\\n                  </ol>\\r\\n                </div>\\r\\n                <div class=\"content-box-in col3\">\\r\\n                  <ol class=\"list-word cx\">\\r\\n                    <!-- た -->\\r\\n                    <li><a href=\"/en/index/%E3%81%9F/\">た</a></li>\\r\\n                    <li><a href=\"/en/index/%E3%81%A1/\">ち</a></li>\\r\\n                    <li><a href=\"/en/index/%E3%81%A4/\">つ</a></li>\\r\\n                    <li><a href=\"/en/index/%E3%81%A6/\">て</a></li>\\r\\n                    <li><a href=\"/en/index/%E3%81%A8/\">と</a></li>\\r\\n                  </ol>\\r\\n                </div>\\r\\n                <div class=\"content-box-in col3\">\\r\\n                  <ol class=\"list-word cx\">\\r\\n                    <!-- な -->\\r\\n                    <li><a href=\"/en/index/%E3%81%AA/\">な</a></li>\\r\\n                    <li><a href=\"/en/index/%E3%81%AB/\">に</a></li>\\r\\n                    <li><a href=\"/en/index/%E3%81%AC/\">ぬ</a></li>\\r\\n                    <li><a href=\"/en/index/%E3%81%AD/\">ね</a></li>\\r\\n                    <li><a href=\"/en/index/%E3%81%AE/\">の</a></li>\\r\\n                  </ol>\\r\\n                </div>\\r\\n                <div class=\"content-box-in col3\">\\r\\n                  <ol class=\"list-word cx\">\\r\\n                    <!-- は -->\\r\\n                    <li><a href=\"/en/index/%E3%81%AF/\">は</a></li>\\r\\n                    <li><a href=\"/en/index/%E3%81%B2/\">ひ</a></li>\\r\\n                    <li><a href=\"/en/index/%E3%81%B5/\">ふ</a></li>\\r\\n                    <li><a href=\"/en/index/%E3%81%B8/\">へ</a></li>\\r\\n                    <li><a href=\"/en/index/%E3%81%BB/\">ほ</a></li>\\r\\n                  </ol>\\r\\n                </div>\\r\\n                <div class=\"content-box-in col3\">\\r\\n                  <ol class=\"list-word cx\">\\r\\n                    <!-- ま -->\\r\\n                    <li><a href=\"/en/index/%E3%81%BE/\">ま</a></li>\\r\\n                    <li><a href=\"/en/index/%E3%81%BF/\">み</a></li>\\r\\n                    <li><a href=\"/en/index/%E3%82%80/\">む</a></li>\\r\\n                    <li><a href=\"/en/index/%E3%82%81/\">め</a></li>\\r\\n                    <li><a href=\"/en/index/%E3%82%82/\">も</a></li>\\r\\n                  </ol>\\r\\n                </div>\\r\\n                <div class=\"content-box-in col3\">\\r\\n                  <ol class=\"list-word cx\">\\r\\n                    <!-- や -->\\r\\n                    <li><a href=\"/en/index/%E3%82%84/\">や</a></li>\\r\\n                    <li class=\"blank\"></li>\\r\\n                    <li><a href=\"/en/index/%E3%82%86/\">ゆ</a></li>\\r\\n                    <li class=\"blank\"></li>\\r\\n                    <li><a href=\"/en/index/%E3%82%88/\">よ</a></li>\\r\\n                  </ol>\\r\\n                </div>\\r\\n                <div class=\"content-box-in col3\">\\r\\n                  <ol class=\"list-word cx\">\\r\\n                    <!-- ら -->\\r\\n                    <li><a href=\"/en/index/%E3%82%89/\">ら</a></li>\\r\\n                    <li><a href=\"/en/index/%E3%82%8A/\">り</a></li>\\r\\n                    <li><a href=\"/en/index/%E3%82%8B/\">る</a></li>\\r\\n                    <li><a href=\"/en/index/%E3%82%8C/\">れ</a></li>\\r\\n                    <li><a href=\"/en/index/%E3%82%8D/\">ろ</a></li>\\r\\n                  </ol>\\r\\n                </div>\\r\\n                <div class=\"content-box-in col3\">\\r\\n                  <ol class=\"list-word cx\">\\r\\n                    <!-- わ -->\\r\\n                    <li><a href=\"/en/index/%E3%82%8F/\">わ</a></li>\\r\\n                    <li class=\"blank\"></li>\\r\\n                    <li><a href=\"/en/index/%E3%82%92/\">を</a></li>\\r\\n                    <li class=\"blank\"></li>\\r\\n                    <li><a href=\"/en/index/%E3%82%93/\">ん</a></li>\\r\\n                  </ol>\\r\\n                </div>\\r\\n                <div class=\"content-box-in col3\">\\r\\n                  <ol class=\"list-word cx\">\\r\\n                    <!-- が -->\\r\\n                    <li><a href=\"/en/index/%E3%81%8C/\">が</a></li>\\r\\n                    <li><a href=\"/en/index/%E3%81%8E/\">ぎ</a></li>\\r\\n                    <li><a href=\"/en/index/%E3%81%90/\">ぐ</a></li>\\r\\n                    <li><a href=\"/en/index/%E3%81%92/\">げ</a></li>\\r\\n                    <li><a href=\"/en/index/%E3%81%94/\">ご</a></li>\\r\\n                  </ol>\\r\\n                </div>\\r\\n                <div class=\"content-box-in col3\">\\r\\n                  <ol class=\"list-word cx\">\\r\\n                    <!-- ざ -->\\r\\n                    <li><a href=\"/en/index/%E3%81%96/\">ざ</a></li>\\r\\n                    <li><a href=\"/en/index/%E3%81%98/\">じ</a></li>\\r\\n                    <li><a href=\"/en/index/%E3%81%9A/\">ず</a></li>\\r\\n                    <li><a href=\"/en/index/%E3%81%9C/\">ぜ</a></li>\\r\\n                    <li><a href=\"/en/index/%E3%81%9E/\">ぞ</a></li>\\r\\n                  </ol>\\r\\n                </div>\\r\\n                <div class=\"content-box-in col3\">\\r\\n                  <ol class=\"list-word cx\">\\r\\n                    <!-- だ -->\\r\\n                    <li><a href=\"/en/index/%E3%81%A0/\">だ</a></li>\\r\\n                    <li class=\"diclst_disable\"><span>ぢ</span></li>\\r\\n                    <li><a href=\"/en/index/%E3%81%A5/\">づ</a></li>\\r\\n                    <li><a href=\"/en/index/%E3%81%A7/\">で</a></li>\\r\\n                    <li><a href=\"/en/index/%E3%81%A9/\">ど</a></li>\\r\\n                  </ol>\\r\\n                </div>\\r\\n                <div class=\"content-box-in col3\">\\r\\n                  <ol class=\"list-word cx\">\\r\\n                    <!-- ば -->\\r\\n                    <li><a href=\"/en/index/%E3%81%B0/\">ば</a></li>\\r\\n                    <li><a href=\"/en/index/%E3%81%B3/\">び</a></li>\\r\\n                    <li><a href=\"/en/index/%E3%81%B6/\">ぶ</a></li>\\r\\n                    <li><a href=\"/en/index/%E3%81%B9/\">べ</a></li>\\r\\n                    <li><a href=\"/en/index/%E3%81%BC/\">ぼ</a></li>\\r\\n                  </ol>\\r\\n                </div>\\r\\n                <div class=\"content-box-in col3\">\\r\\n                  <ol class=\"list-word cx\">\\r\\n                    <!-- ぱ -->\\r\\n                    <li><a href=\"/en/index/%E3%81%B1/\">ぱ</a></li>\\r\\n                    <li><a href=\"/en/index/%E3%81%B4/\">ぴ</a></li>\\r\\n                    <li><a href=\"/en/index/%E3%81%B7/\">ぷ</a></li>\\r\\n                    <li><a href=\"/en/index/%E3%81%BA/\">ぺ</a></li>\\r\\n                    <li><a href=\"/en/index/%E3%81%BD/\">ぽ</a></li>\\r\\n                  </ol>\\r\\n                </div>\\r\\n              </div>\\r\\n              <!-- contents-wrap-a-in --></div>\\r\\n          </section>\\r\\n\\r\\n          <!-- contents-wrap-e --></div>\\r\\n      </section>\\r\\n\\r\\n      <section>\\r\\n        <div class=\"section contents-wrap-e\">\\r\\n          <h2 class=\"ttl-d\">収録辞書</h2>\\r\\n            <dl id=\"dict_list\">\\r\\n                <dt><a href=\"/jn/\">国語辞書</a></dt>\\n<dd>\\n    <ul>\\n        <li class=\"children\"><a href=\"/jn/\">デジタル大辞泉</a>\\n            <ul>\\n                <li><a href=\"/jn/category/文学/\">文学</a></li>\\n                <li><a href=\"/jn/category/宗教・思想/\">宗教・思想</a></li>\\n                <li><a href=\"/jn/category/日本史/\">日本史</a></li>\\n                <li><a href=\"/jn/category/世界史/\">世界史</a></li>\\n                <li><a href=\"/jn/category/地理/\">地理</a></li>\\n                <li><a href=\"/jn/category/社会/\">社会</a></li>\\n                <li><a href=\"/jn/category/美術・音楽/\">美術・音楽</a></li>\\n                <li><a href=\"/jn/category/演劇・映画/\">演劇・映画</a></li>\\n                <li><a href=\"/jn/category/物理・化学/\">物理・化学</a></li>\\n                <li><a href=\"/jn/category/生物/\">生物</a></li>\\n                <li><a href=\"/jn/category/地学/\">地学</a></li>\\n                <li><a href=\"/jn/category/医学/\">医学</a></li>\\n                <li><a href=\"/jn/category/生活/\">生活</a></li>\\n                <li><a href=\"/jn/category/数学/\">数学</a></li>\\n                <li><a href=\"/jn/category/IT用語/\">IT用語</a></li>\\n                <li><a href=\"/jn/category/四字熟語/\">四字熟語</a></li>\\n                <li><a href=\"/jn/category/慣用句・ことわざ/\">慣用句・ことわざ</a></li>\\n                <li><a href=\"/jn/category/ABC略語/\">ABC略語</a></li>\\n                <li><a href=\"/jn/category/季語/\">季語</a></li>\\n                <li><a href=\"/jn/category/品詞/\">品詞</a></li>\\n            </ul>\\n        </li>\\n    </ul>\\n</dd>\\n<dt><a href=\"/thsrs/\">類語辞書</a></dt>\\n<dd>\\n    <ul>\\n        <li><a href=\"/thsrs/\">類語例解辞典</a></li>\\n    </ul>\\n</dd>\\n<dt><a href=\"/en/\">英和・和英辞書</a></dt>\\n<dd>\\n    <ul>\\n        <li><a href=\"/ej/\">ランダムハウス英和大辞典</a></li>\\n        <li><a href=\"/je/\">プログレッシブ和英中辞典</a></li>\\n        <li><a href=\"/edc/\">E-DIC 英和|和英</a></li>\\n        <li><a href=\"/clj/\">gooコロケーション辞典</a></li>\\n        <li><a href=\"/cej/\">goo時事英語辞典</a></li>\\n    </ul>\\n</dd>\\n    <dt><a href=\"/jc/\">日中辞書</a></dt>\\n    <dd>\\n        <ul>\\n            <li><a href=\"/jc/\">デイリーコンサイス日中辞典</a></li>\\n        </ul>\\n    </dd>\\n    <dt><a href=\"/cj/\">中日辞書</a></dt>\\n    <dd>\\n        <ul>\\n            <li><a href=\"/cj/\">デイリーコンサイス中日辞典</a></li>\\n        </ul>\\n    </dd>\\n<dt><a href=\"/wiki/\">Wikipedia</a></dt>\\n<dd>\\n    <ul>\\n        <li><a href=\"/wiki/\">Wikipedia記事検索</a></li>\\n    </ul>\\n</dd>\\n<dt><a href=\"/glossary/\">専門用語</a></dt>\\n<dd>\\n    <ul>\\n                    <li class=\"children\"><a href=\"/idiom/\">四字熟語一覧</a>\\n                <ul>\\n                    <li><a href=\"/idiom/category/人生の節目で/\">人生の節目で</a></li>\\n                    <li><a href=\"/idiom/category/自然や季節を表す/\">自然や季節を表す</a></li>\\n                    <li><a href=\"/idiom/category/人知を越えたものを表す/\">人知を越えたものを表す</a></li>\\n                    <li><a href=\"/idiom/category/人間関係を表す/\">人間関係を表す</a></li>\\n                    <li><a href=\"/idiom/category/人物像を表す/\">人物像を表す</a></li>\\n                    <li><a href=\"/idiom/category/喜怒哀楽を表す/\">喜怒哀楽を表す</a></li>\\n                    <li><a href=\"/idiom/category/揺れる気持ちを表す/\">揺れる気持ちを表す</a></li>\\n                    <li><a href=\"/idiom/category/言語を表す/\">言語を表す</a></li>\\n                    <li><a href=\"/idiom/category/元気・健康を表す/\">元気・健康を表す</a></li>\\n                    <li><a href=\"/idiom/category/暮らしぶりを表す/\">暮らしぶりを表す</a></li>\\n                    <li><a href=\"/idiom/category/励ましたり、褒めたり/\">励ましたり、褒めたり</a></li>\\n                    <li><a href=\"/idiom/category/非難する/\">非難する</a></li>\\n                    <li><a href=\"/idiom/category/さまざまな状態を表す/\">さまざまな状態を表す</a></li>\\n                    <li><a href=\"/idiom/category/社会との関わりを表す/\">社会との関わりを表す</a></li>\\n                    <li><a href=\"/idiom/category/生きる指針/\">生きる指針</a></li>\\n                </ul>\\n            </li>\\n            <li><a href=\"/dialect/\">全国方言辞典</a></li>\\n                        <li><a href=\"/mb/\">MBA経営辞書</a></li>\\n        <li><a href=\"/infsec/\">情報セキュリティ用語辞書</a></li>\\n        <li><a href=\"/ipph/\">IP電話用語集</a></li>\\n        <li><a href=\"/ntwk/\">ネットワーク用語集</a></li>\\n        <li><a href=\"/olg/\">オンラインゲーム用語集</a></li>\\n        <li><a href=\"/strmg/\">ストリーミング用語集</a></li>\\n        <li><a href=\"/homemed/\">家庭医学館</a></li>\\n        <li><a href=\"/medical/\">家庭の医学</a></li>\\n        <li><a href=\"/kusuri/\">薬の手引き</a></li>\\n        <li><a href=\"/nutri/\">食の医学館</a></li>\\n        <li><a href=\"/hlsppl/\">サプリメント、健康食品用語集</a></li>\\n        <li><a href=\"/pension/\">年金用語集</a></li>\\n        <li><a href=\"/401k/\">年金積立金管理運用用語集</a></li>\\n        <li><a href=\"/nlinsu/\">損害保険用語集</a></li>\\n        <li><a href=\"/rlest/\">住宅用語集</a></li>\\n        <li><a href=\"/envw/\">環境関連用語</a></li>\\n        <li><a href=\"/envas/\">環境アセスメント用語集</a></li>\\n        <li><a href=\"/gthmal/\">地熱発電用語集</a></li>\\n    </ul>\\n</dd>\\n            </dl>\\r\\n          <!-- contents-wrap-e --></div>\\r\\n      </section>\\r\\n\\r\\n      <!--csi ad-->\\r\\n      <div id=\"spoLine\"></div>\\n \\n<div>\\n  <!--csi ad-->\\n  <aside role=\"complementary\" class=\"sp-hidden\">\\n    <div class=\"NR-ad ad-wrap aside\">\\n      <script async src=\"//pagead2.googlesyndication.com/pagead/js/adsbygoogle.js\"></script>\\n      <!-- [PC]goo_dic_ext_left_lower_670*240 -->\\n      <ins class=\"adsbygoogle\" \\n           style=\"display:inline-block;width:670px;height:240px\" \\n           data-ad-client=\"ca-pub-7341853905703022\" \\n           data-max-num-ads=\"4\" \\n           data-ad-slot=\"2820076994\"></ins>\\n      <script>\\n      \\n      (adsbygoogle = window.adsbygoogle || []).push({});\\n      \\n      </script>\\n    </div>\\n  </aside>\\n  <!--/csi ad-->\\n</div>\\n      <!--/csi ad-->\\r\\n\\r\\n      <!--gooad footer-->\\r\\n      <!--gooad-badge-->\\n<aside role=\"complementary\" class=\"sp-hidden\">\\n  <div class=\"NR-ad ad-wrap aside\">\\n    <div id=\"gooad-badge345_1\">\\n      <script type=\"text/javascript\">window.gooad && window.gooad.render();</script>\\n    </div>\\n  </div>\\n</aside>\\n<!--/gooad-badge-->\\n\\n<!--gooad-textdown-->\\n<aside role=\"complementary\" class=\"sp-hidden\">\\n  <div class=\"NR-ad ad-wrap aside\">\\n    <div id=\"gooad-textdown\">\\n      <script type=\"text/javascript\">window.gooad && window.gooad.render();</script>\\n    </div>\\n  </div>\\n</aside>\\n<!--/gooad-textdown-->\\n      <!--/gooad footer-->\\r\\n\\r\\n      <!--sns buttons-->\\r\\n      <div class=\"social-button sp-visible\">\\n  <ul>\\n   <li class=\"twitter\"> <a href=\"http://twitter.com/share?url=https://dictionary.goo.ne.jp%2F&amp;text=%E5%9B%BD%E8%AA%9E%E3%83%BB%E8%8B%B1%E8%AA%9E%E3%83%BB%E5%9B%9B%E5%AD%97%E7%86%9F%E8%AA%9E%E3%83%BB%E4%B8%AD%E5%9B%BD%E8%AA%9E%E3%81%AE%E3%82%AA%E3%83%B3%E3%83%A9%E3%82%A4%E3%83%B3%E8%BE%9E%E6%9B%B8+-+goo%E8%BE%9E%E6%9B%B8&amp;\" target=\"_blank\" rel=\"nofollow\" title=\"Twitterでシェアする\"><img src=\"//u.xgoo.jp/img/sns/button/twitter.png\" alt=\"Twitterでシェアする\"></a> </li>\\n    <li class=\"facebook\"> <a href=\"https://www.facebook.com/sharer/sharer.php?u=https://dictionary.goo.ne.jp%2F\" target=\"_blank\" rel=\"nofollow\" title=\"Facebookでシェアする\"><img src=\"//u.xgoo.jp/img/sns/button/facebook.png\" alt=\"Facebookでシェアする\"></a> </li>\\n    <li class=\"line\"> <a href=\"http://line.me/R/msg/text/?%E5%9B%BD%E8%AA%9E%E3%83%BB%E8%8B%B1%E8%AA%9E%E3%83%BB%E5%9B%9B%E5%AD%97%E7%86%9F%E8%AA%9E%E3%83%BB%E4%B8%AD%E5%9B%BD%E8%AA%9E%E3%81%AE%E3%82%AA%E3%83%B3%E3%83%A9%E3%82%A4%E3%83%B3%E8%BE%9E%E6%9B%B8+-+goo%E8%BE%9E%E6%9B%B8https://dictionary.goo.ne.jp%2F\" rel=\"nofollow\" title=\"LINEでシェアする\"><img src=\"//u.xgoo.jp/img/sns/button/line.png\" alt=\"LINEでシェアする\"></a> </li>\\n    <li class=\"gplus\"> <a href=\"https://plus.google.com/share?url=https://dictionary.goo.ne.jp%2F\" target=\"_blank\" rel=\"nofollow\" title=\"Google+でシェアする\"><img src=\"//u.xgoo.jp/img/sns/button/google.png\" alt=\"Google+でシェアする\"></a> </li>\\n    <li class=\"mail\"> <a href=\"mailto:?subject=%5Bgoo%E8%BE%9E%E6%9B%B8%5D&amp;body=%E5%9B%BD%E8%AA%9E%E3%83%BB%E8%8B%B1%E8%AA%9E%E3%83%BB%E5%9B%9B%E5%AD%97%E7%86%9F%E8%AA%9E%E3%83%BB%E4%B8%AD%E5%9B%BD%E8%AA%9E%E3%81%AE%E3%82%AA%E3%83%B3%E3%83%A9%E3%82%A4%E3%83%B3%E8%BE%9E%E6%9B%B8 - goo%E8%BE%9E%E6%9B%B8%0d%0ahttps://dictionary.goo.ne.jp%2F\" target=\"_blank\" rel=\"nofollow\" title=\"メールで送る\"><img src=\"//u.xgoo.jp/img/sns/button/mail.png\" alt=\"メールで送る\"></a> </li>\\n  </ul>\\n  <!-- social-button -->\\n</div>\\n      <!--/sns buttons-->\\r\\n\\r\\n      <!-- SP用検索フォーム -->\\r\\n       <!-- SP用検索 -->\\n<div class=\"NR-search sp-visible\">\\n  <form name=\"dict\" id=\"freeword2sp\" action=\"/freewordsearcher.html\" method=\"get\" class=\"NR-search-in cx\" role=\"search\">\\n    <div class=\"search-unit\">\\n      <input name=\\'MT\\' type=\"text\" value=\"\" class=\"NR-text NR-search-text\" placeholder=\"調べたい言葉を入力\" id=\"searchbottom_sp\" autocomplete=\"off\" onfocus=\"initSuggestSp();\">\\n\\n      <select class=\"NR-select\" name=\"mode\" id=\"searchbottom_sp_searchmode\">\\n        <option value=\"0\" selected>で始まる</option>\\n        <option value=\"1\">で一致する</option>\\n        <option value=\"2\">で終わる</option>\\n        <option value=\"3\">を説明文に含む</option>\\n        <option value=\"6\">を見出しに含む</option>\\n      </select>\\n            <div class=\"suggest-unit\" style=\"display:none;\">\\n            <!-- /.suggest-unit --></div>\\n      <!-- /.search-unit --></div>\\n            <input type=\"image\" src=\"//dictionary.xgoo.jp/img/btn_search_sp.png\" title=\"検索\" alt=\"検索\" class=\"NR-button\">\\n                  <input type=\"hidden\" name=\"kind\" value=\"all\" id=\"searchbottom_sp_suggesttype\">\\n        </form>\\n  <!-- search(option) --></div>\\n<!-- 検索 -->\\n      <!-- /SP用検索フォーム -->\\r\\n\\r\\n      <!-- main --></div>\\r\\n\\r\\n    <!--RIGHTSIDE-->\\r\\n    <!-- RSIDE -->\\n<div id=\"NR-sub\">\\n  <div id=\"NR-sub-in\">         \\n    <!-- 辞書サービス -->\\n    \\n\\n                    <aside role=\"complementary\" class=\"sp-hidden\">\\n      <div class=\"NR-ad ad-wrap-first aside\">\\n        <!-- pr -->\\n        <div id=\"gooad-badge300_1\"><script type=\"text/javascript\">window.gooad && window.gooad.render();</script></div>\\n        <!-- /pr -->\\n      </div>\\n    </aside>\\n    \\n        \\n    \\n    \\n    \\n    \\n      \\n        <aside role=\"complementary\" class=\"sp-hidden\">\\n  <div class=\"NR-ad ad-wrap aside\">\\n    <div id=\"gooad-badge300_2\">\\n      <script type=\"text/javascript\">window.gooad && window.gooad.render();</script>\\n    </div>\\n  </div>\\n</aside>\\n    \\n    <a class=\"twitter-timeline\" data-lang=\"ja\" data-width=\"300\" data-height=\"400\" href=\"https://twitter.com/goojisho\">Tweets by goojisho</a> <script async src=\"//platform.twitter.com/widgets.js\" charset=\"utf-8\"></script>\\n        <aside role=\"complementary\">\\n  <div class=\"aside\">\\n    <h2 class=\"side-ttl-a\">間違いやすい英語</h2>\\n    <div class=\"aside-wrap\">\\n      <p class=\"text side-text-a phrase\">\"I\\'m meeting a client on 9.00 at the morning in Thursday\"</p>\\n      <a href=\"/mistake_english\" class=\"side-button-a\">このフレーズの間違いは？</a>\\n    </div>\\n  </div>\\n</aside>                <!-- meigen -->\\n<aside role=\"complementary\">\\n  <div class=\"aside\">\\n    <h2 class=\"side-ttl-a\">世界の名言・格言</h2>\\n    <div class=\"aside-wrap\">\\n      <dl class=\"side-list-a\">\\n        <dt class=\"name in-side-ttl-a\">リンカーン</dt>\\n        <dd class=\"list\">\\n          <ul class=\"list-simple-a cx\">\\n            <li>\\n              <a href=\"/quote/161/1\\n\">名言一覧</a>\\n            </li>\\n            <li>\\n              <a href=\"http://wpedia.goo.ne.jp/wiki/%E3%82%A8%E3%82%A4%E3%83%96%E3%83%A9%E3%83%8F%E3%83%A0%E3%83%BB%E3%83%AA%E3%83%B3%E3%82%AB%E3%83%BC%E3%83%B3\" target=\"_blank\" rel=\"nofollow\">Wiki</a>\\n            </li>\\n          </ul>\\n        </dd>\\n        <dd class=\"desc side-text-b\">それはできる、それをやる、と決断せよ。それからその方法を見つけるのだ。</dd>\\n      </dl>\\n    </div>\\n  </div>\\n</aside>\\n<!-- /meigen -->                    \\n    <aside role=\"complementary\" class=\"sp-hidden\">\\n  <div class=\"NR-ad ad-wrap aside\">\\n    <div id=\"gooad-mkkbadge300_1\">\\n      <script type=\"text/javascript\">window.gooad && window.gooad.render();</script>\\n    </div>\\n  </div>\\n</aside>\\n\\n    \\n            <div class=\"aside\">\\n    <h2 class=\"side-ttl-a\">新着ワード</h2>\\n    <div class=\"aside-wrap new_words\">\\n        <ul class=\"list-simple-c\">\\n            <li><a href=\"/jn/284678/meaning/m0u/\">ウエットエージング</a></li>\\n            <li><a href=\"/jn/285207/meaning/m0u/\">サンタクルス大聖堂</a></li>\\n            <li><a href=\"/jn/284631/meaning/m0u/\">一次消費者</a></li>\\n            <li><a href=\"/jn/286256/meaning/m0u/\">モライ</a></li>\\n            <li><a href=\"/jn/286288/meaning/m0u/\">ユンガイ</a></li>\\n            <li><a href=\"/jn/285737/meaning/m0u/\">特別養子縁組</a></li>\\n            <li><a href=\"/jn/286411/meaning/m0u/\">ワカチナ</a></li>\\n            <li><a href=\"/jn/285686/meaning/m0u/\">デジタル掛図</a></li>\\n            <li><a href=\"/jn/286385/meaning/m0u/\">レンズマウント</a></li>\\n            <li><a href=\"/jn/284884/meaning/m0u/\">カワチ遺跡</a></li>\\n            <li><a href=\"/jn/285706/meaning/m0u/\">天使の傷痕</a></li>\\n            <li><a href=\"/jn/285485/meaning/m0u/\">前適応</a></li>\\n            <li><a href=\"/jn/286160/meaning/m0u/\">ボヘミアの森より</a></li>\\n            <li><a href=\"/jn/284784/meaning/m0u/\">オトゥスコの窓</a></li>\\n            <li><a href=\"/jn/284917/meaning/m0u/\">記念撮影</a></li>\\n            <li><a href=\"/jn/284991/meaning/m0u/\">草陰の小径を通って</a></li>\\n            <li><a href=\"/jn/286213/meaning/m0u/\">ミリメートル水銀柱</a></li>\\n            <li><a href=\"/jn/285057/meaning/m0u/\">現代国家批判</a></li>\\n            <li><a href=\"/jn/284647/meaning/m0u/\">遺伝子浮動</a></li>\\n            <li><a href=\"/jn/286376/meaning/m0u/\">ルミノシティー</a></li>\\n        </ul>\\n    </div>\\n</div>    \\n            <aside role=\"complementary\" class=\"sp-hidden\">\\n  <div class=\"NR-ad ad-wrap aside\">\\n    <script async src=\"//pagead2.googlesyndication.com/pagead/js/adsbygoogle.js\"></script>\\n    <!-- [PC]goo_dic_ext_right_300*250 -->\\n    <ins class=\"adsbygoogle\" \\n         style=\"display:inline-block;width:300px;height:250px\" \\n         data-ad-client=\"ca-pub-7341853905703022\" \\n         data-max-num-ads=\"4\" \\n         data-ad-slot=\"9638666596\"></ins>\\n    <script>\\n    \\n    (adsbygoogle = window.adsbygoogle || []).push({});\\n    \\n    </script>\\n  </div>\\n</aside>\\n    \\n                    \\n        <aside role=\"complementary\" class=\"sp-hidden\">\\n      <div class=\"NR-ad ad-wrap-first aside\">\\n        <!-- pr -->\\n                <!-- /pr -->\\n      </div>\\n    </aside>\\n             </div>\\n</div>    <!--/RIGHTSIDE-->\\r\\n\\r\\n    <!-- wrapper-in --></div>\\r\\n\\r\\n  <!--検索-->\\r\\n   <div class=\"NR-search footer sp-hidden\">\\n  <form name=\"dict\" id=\"freeword2\" action=\"/freewordsearcher.html\" method=\"get\" class=\"NR-search-in cx\" role=\"search\">\\n    <div class=\"search-unit\">\\n      <input name=\\'MT\\' type=\"text\" value=\"\" class=\"NR-text NR-search-text\" placeholder=\"調べたい言葉を入力\" id=\"searchbottom\" autocomplete=\"off\" onfocus=\"initSuggest();\" tabindex=\"101\">\\n\\n      <select class=\"NR-select\" name=\"mode\" id=\"searchbottom_searchmode\">\\n        <option value=\"0\" selected>で始まる</option>\\n        <option value=\"1\">で一致する</option>\\n        <option value=\"2\">で終わる</option>\\n        <option value=\"3\">を説明文に含む</option>\\n        <option value=\"6\">を見出しに含む</option>\\n      </select>\\n            <div class=\"suggest-unit\" style=\"display:none;\">\\n            <!-- /.suggest-unit --></div>\\n      <!-- /.search-unit --></div>\\n            <input type=\"image\" src=\"//dictionary.xgoo.jp/img/btn_search.png\" title=\"検索\" alt=\"検索\" tabindex=\"160\">\\n                  <input type=\"hidden\" name=\"kind\" value=\"all\" id=\"searchbottom_suggesttype\">\\n        </form>\\n  <!-- search(option) --></div>\\n<!-- 検索 -->\\n  <!--/検索-->\\r\\n\\r\\n  <!-- SP用広告枠表示 -->\\r\\n    <!-- SP用広告枠表示 -->\\r\\n\\r\\n  <!--広告-->\\r\\n    <!--/広告-->\\r\\n\\r\\n  <!-- wrapper --></div>\\r\\n\\n\\t<footer role=\"contentinfo\"><div id=\"NR-footer\">\\n\\t\\t<!--ページトップへリンク-->\\n\\t\\t<div id=\"NR-backToTop\">\\n\\t\\t  <div class=\"top-btn top-btn-fix\" style=\"display: none;\">\\n\\t\\t  <a data-cid=\"spfooter-above-1\" href=\"#NR-page\"><span>このページの先頭へ</span></a>\\n\\t\\t  </div>\\n\\t\\t  <div class=\"top-btn-footer\">\\n\\t\\t  <a data-cid=\"spfooter-above-2\" href=\"#NR-page\" class=\"top-btn\"><span>このページの先頭へ</span></a>\\n\\t\\t  </div>\\n\\t\\t</div>\\n\\t\\t<!--/ページトップへリンク-->\\n\\t\\t<div id=\"NR-footer-in\">\\n\\t\\t\\t<div id=\"NR-footer-sv\">\\n\\t\\t\\t\\t<dl id=\"NR-footer-sv-site\">\\n\\t\\t\\t\\t\\t\\t\\t\\t\\t\\t<dt>関連サービス</dt>\\n\\t\\t\\t\\t\\t<dd>\\n\\t\\t\\t\\t\\t\\t<ul>\\n\\t\\t\\t\\t\\t\\t\\t<li><a href=\"http://wpedia.goo.ne.jp/\" rel=\"nofollow\">Wikipedia記事検索</a></li>\\n\\t\\t\\t\\t\\t\\t\\t<li><a href=\"http://study.goo.ne.jp/\">進学＆資格</a></li>\\n\\t\\t\\t\\t\\t\\t\\t<li><a href=\"https://oshiete.goo.ne.jp/\">教えて！goo</a></li>\\n\\t\\t\\t\\t\\t\\t\\t<li><a href=\"https://search.goo.ne.jp/\">ウェブ検索</a></li>\\n\\t\\t\\t\\t\\t\\t</ul>\\n\\t\\t\\t\\t\\t</dd>\\n                                        <dt>gooサービス</dt>\\n                                        <dd>\\n                                                <ul>\\n                                                        <li><a href=\"https://house.goo.ne.jp/rent/ap/\">賃貸</a></li>\\n                                                        <li><a href=\"https://autos.goo.ne.jp/used/\">中古車</a></li>\\n                                                        <li><a href=\"https://job.goo.ne.jp/jobchange\">転職</a></li>\\n                                                        <li><a href=\"https://money.goo.ne.jp/\">マネー</a></li>\\n                                                        <li><a href=\"https://travel.goo.ne.jp/jp_hotel/\">ホテル予約</a></li>\\n                                                        <li><a href=\"https://townpage.goo.ne.jp/\">電話帳</a></li>\\n                                                        <li><a href=\"http://gourmet.goo.ne.jp/restaurant/\">飲食店</a></li>\\n                                                </ul>\\n                                        </dd>\\n\\t\\t\\t\\t</dl>\\n\\t\\t\\t</div>\\n\\t\\t\\t<div id=\"NR-footer-link\">\\n\\t\\t\\t\\t<ul>\\n\\t\\t\\t\\t\\t<li><a href=\"http://www.goo.ne.jp/\">gooトップ</a></li>\\n\\t\\t\\t\\t\\t<li><a href=\"http://www.goo.ne.jp/sitemap/\">サイトマップ</a></li>\\n\\t\\t\\t\\t\\t<li><a href=\"http://www.goo.ne.jp/set/\">スタートページに設定</a></li>\\n\\t\\t\\t\\t\\t<li><a href=\"http://www.goo.ne.jp/rss/\">RSS</a></li>\\n\\t\\t\\t\\t\\t<li><a href=\"http://advertising.nttr.co.jp/adinfo/\">広告掲載</a></li>\\n\\t\\t\\t\\t\\t<li><a href=\"http://help.goo.ne.jp/office/agreement.html\">免責事項</a></li>\\n\\t\\t\\t\\t\\t<li><a href=\"http://help.goo.ne.jp/help/article/709/\">プライバシーポリシー</a></li>\\n\\t\\t\\t\\t\\t<li><a href=\"http://help.goo.ne.jp/\">ヘルプ</a></li>\\n\\t\\t\\t\\t\\t<li><a href=\"http://www.nttr.co.jp/\">企業情報</a></li>\\n\\t\\t\\t\\t</ul>\\n\\t\\t\\t</div>\\n\\t\\t\\t<p class=\"NR-copyright\"><small><span class=\"small\">&copy;NTT Resonant Inc.</span></small></p>\\n\\t\\t<!-- footer-in --></div>\\n\\t<!-- footer --></div></footer>\\n<!-- page --></div>\\n<script src=\"//u.xgoo.jp/js/1.1.js\"></script>\\n<script src=\"//u.xgoo.jp/jquery/powertip/1.2.js\"></script>\\n<script src=\"//u.xgoo.jp/jquery/colorbox/jquery.colorbox-1.6.0.js\"></script>\\n<script src=\"/js/jQueryAutoHeight.js?1480409000\"></script>\\n<script src=\"/js/script.js?1481533333\"></script>\\n<script src=\"//log000.goo.ne.jp/js/VLTraceDMD.js\"></script>\\r<script src=\"/hyge_modified/js/sp_header_app_balloon.js?1475203699\"></script>\\n<script src=\"/hyge_modified/js/sp_search_form_view.js?1475203699\"></script>\\n<script src=\"/hyge_modified/js/page.js?1475203699\"></script>\\n<!-- end modified -->\\n</body>\\n</html>'"
      ]
     },
     "execution_count": 38,
     "metadata": {},
     "output_type": "execute_result"
    }
   ],
   "source": [
    "res.text"
   ]
  },
  {
   "cell_type": "code",
   "execution_count": 39,
   "metadata": {},
   "outputs": [
    {
     "data": {
      "text/plain": [
       "81546"
      ]
     },
     "execution_count": 39,
     "metadata": {},
     "output_type": "execute_result"
    }
   ],
   "source": [
    "len(res.text)"
   ]
  },
  {
   "cell_type": "code",
   "execution_count": 40,
   "metadata": {},
   "outputs": [
    {
     "data": {
      "text/plain": [
       "200"
      ]
     },
     "execution_count": 40,
     "metadata": {},
     "output_type": "execute_result"
    }
   ],
   "source": [
    "#HTTP协议中“ OK”的状态码是 200。404 状态码表示“没找到”\n",
    "res.status_code"
   ]
  },
  {
   "cell_type": "code",
   "execution_count": 54,
   "metadata": {},
   "outputs": [],
   "source": [
    "res1 = requests.get('http://inventwithpython.com/page_that_does_not_exist')"
   ]
  },
  {
   "cell_type": "code",
   "execution_count": 47,
   "metadata": {},
   "outputs": [
    {
     "data": {
      "text/plain": [
       "1238"
      ]
     },
     "execution_count": 47,
     "metadata": {},
     "output_type": "execute_result"
    }
   ],
   "source": [
    "len(res1.text)"
   ]
  },
  {
   "cell_type": "code",
   "execution_count": 55,
   "metadata": {},
   "outputs": [
    {
     "data": {
      "text/plain": [
       "<bound method Response.raise_for_status of <Response [200]>>"
      ]
     },
     "execution_count": 55,
     "metadata": {},
     "output_type": "execute_result"
    }
   ],
   "source": [
    "res.raise_for_status"
   ]
  },
  {
   "cell_type": "code",
   "execution_count": 58,
   "metadata": {
    "collapsed": true
   },
   "outputs": [],
   "source": [
    "import webbrowser"
   ]
  },
  {
   "cell_type": "code",
   "execution_count": 60,
   "metadata": {
    "collapsed": true
   },
   "outputs": [],
   "source": [
    "import time"
   ]
  },
  {
   "cell_type": "code",
   "execution_count": 61,
   "metadata": {},
   "outputs": [
    {
     "data": {
      "text/plain": [
       "1494256324.010934"
      ]
     },
     "execution_count": 61,
     "metadata": {},
     "output_type": "execute_result"
    }
   ],
   "source": [
    "time.time()\n",
    "#time.time()函数返回自1970 年 1 月 1 日 0 点以来的秒数 "
   ]
  },
  {
   "cell_type": "code",
   "execution_count": 62,
   "metadata": {
    "collapsed": true
   },
   "outputs": [],
   "source": [
    "import datetime"
   ]
  },
  {
   "cell_type": "code",
   "execution_count": 64,
   "metadata": {},
   "outputs": [
    {
     "data": {
      "text/plain": [
       "datetime.datetime(2017, 5, 8, 23, 17, 12, 719591)"
      ]
     },
     "execution_count": 64,
     "metadata": {},
     "output_type": "execute_result"
    }
   ],
   "source": [
    "datetime.datetime.now()"
   ]
  },
  {
   "cell_type": "code",
   "execution_count": 70,
   "metadata": {},
   "outputs": [],
   "source": [
    "dt = datetime.datetime(2015, 10, 21, 16, 29, 0)"
   ]
  },
  {
   "cell_type": "code",
   "execution_count": 67,
   "metadata": {},
   "outputs": [
    {
     "data": {
      "text/plain": [
       "(2015, 10, 21)"
      ]
     },
     "execution_count": 67,
     "metadata": {},
     "output_type": "execute_result"
    }
   ],
   "source": [
    "dt.year, dt.month, dt.day"
   ]
  },
  {
   "cell_type": "code",
   "execution_count": 68,
   "metadata": {},
   "outputs": [
    {
     "data": {
      "text/plain": [
       "(16, 29, 0)"
      ]
     },
     "execution_count": 68,
     "metadata": {},
     "output_type": "execute_result"
    }
   ],
   "source": [
    "dt.hour, dt.minute, dt.second"
   ]
  },
  {
   "cell_type": "code",
   "execution_count": 71,
   "metadata": {},
   "outputs": [
    {
     "data": {
      "text/plain": [
       "'2015/10/21 16:29:00'"
      ]
     },
     "execution_count": 71,
     "metadata": {},
     "output_type": "execute_result"
    }
   ],
   "source": [
    "# 将 datetime 对象转换为字符串\n",
    "oct21st = datetime.datetime(2015, 10, 21, 16, 29, 0)\n",
    "oct21st.strftime('%Y/%m/%d %H:%M:%S')"
   ]
  },
  {
   "cell_type": "code",
   "execution_count": 72,
   "metadata": {},
   "outputs": [
    {
     "data": {
      "text/plain": [
       "'04:29 PM'"
      ]
     },
     "execution_count": 72,
     "metadata": {},
     "output_type": "execute_result"
    }
   ],
   "source": [
    "oct21st.strftime('%I:%M %p')\n",
    "#可以将strftime()中的f记为format，即格式（化）"
   ]
  },
  {
   "cell_type": "code",
   "execution_count": 73,
   "metadata": {},
   "outputs": [
    {
     "data": {
      "text/plain": [
       "\"October of '15\""
      ]
     },
     "execution_count": 73,
     "metadata": {},
     "output_type": "execute_result"
    }
   ],
   "source": [
    "oct21st.strftime(\"%B of '%y\")"
   ]
  },
  {
   "cell_type": "code",
   "execution_count": 74,
   "metadata": {},
   "outputs": [
    {
     "data": {
      "text/plain": [
       "datetime.datetime(2015, 10, 21, 0, 0)"
      ]
     },
     "execution_count": 74,
     "metadata": {},
     "output_type": "execute_result"
    }
   ],
   "source": [
    "# 将字符串转换成 datetime 对象\n",
    "datetime.datetime.strptime('October 21, 2015', '%B %d, %Y')\n",
    "# strptime()函数名中 p 表示解析， parse，这种解析将自然语言转换为程序语言，很有用"
   ]
  },
  {
   "cell_type": "code",
   "execution_count": 75,
   "metadata": {},
   "outputs": [
    {
     "data": {
      "text/plain": [
       "datetime.datetime(2015, 10, 21, 16, 29)"
      ]
     },
     "execution_count": 75,
     "metadata": {},
     "output_type": "execute_result"
    }
   ],
   "source": [
    "datetime.datetime.strptime('2015/10/21 16:29:00', '%Y/%m/%d %H:%M:%S')"
   ]
  },
  {
   "cell_type": "code",
   "execution_count": null,
   "metadata": {
    "collapsed": true
   },
   "outputs": [],
   "source": []
  }
 ],
 "metadata": {
  "kernelspec": {
   "display_name": "Python 3",
   "language": "python",
   "name": "python3"
  },
  "language_info": {
   "codemirror_mode": {
    "name": "ipython",
    "version": 3
   },
   "file_extension": ".py",
   "mimetype": "text/x-python",
   "name": "python",
   "nbconvert_exporter": "python",
   "pygments_lexer": "ipython3",
   "version": "3.5.2"
  },
  "toc": {
   "colors": {
    "hover_highlight": "#DAA520",
    "running_highlight": "#FF0000",
    "selected_highlight": "#FFD700"
   },
   "moveMenuLeft": true,
   "nav_menu": {
    "height": "48px",
    "width": "252px"
   },
   "navigate_menu": true,
   "number_sections": false,
   "sideBar": true,
   "threshold": 4,
   "toc_cell": false,
   "toc_section_display": "block",
   "toc_window_display": true,
   "widenNotebook": false
  }
 },
 "nbformat": 4,
 "nbformat_minor": 2
}
