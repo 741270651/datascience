{
 "cells": [
  {
   "cell_type": "markdown",
   "metadata": {},
   "source": [
    "### FP-Growth算法实现"
   ]
  },
  {
   "cell_type": "markdown",
   "metadata": {},
   "source": [
    "要点总结:\n",
    "\n",
    "1. 设计节点的数据结构`treeNode`\n",
    "2. 两次扫描事务数据库`D`,创建`FP tree`和`headerTable`\n",
    "3. 寻找每个`item`的前缀路径,构成Conditional Pattern Bases(CPB), 把CPBs当做每个节点的local D,创建`item`的条件FP tree\n",
    "4. 用条件FP tree的每条分支的节点的所有组合, 分别与后缀元素(item)求并集,形成频繁项集\n",
    "\n",
    "形如*<数据挖掘: 概念与技术> P168表6.2*的挖掘结果保存在`resultTable`中."
   ]
  },
  {
   "cell_type": "markdown",
   "metadata": {},
   "source": [
    "credits: https://blog.csdn.net/gamer_gyt/article/details/51113753\n",
    "\n",
    "#### Implementation start\n",
    "\n",
    "------------"
   ]
  },
  {
   "cell_type": "code",
   "execution_count": 90,
   "metadata": {},
   "outputs": [],
   "source": [
    "inputfile = './data/AllElectronics_orders.xls'\n",
    "\n",
    "data = pd.read_excel(inputfile, header=None)"
   ]
  },
  {
   "cell_type": "code",
   "execution_count": 91,
   "metadata": {},
   "outputs": [],
   "source": [
    "import pandas as pd\n",
    "pd.options.display.max_colwidth = 300\n",
    "\n",
    "import itertools\n",
    "def _findsubsets(s,m):\n",
    "    return set(itertools.combinations(s, m))"
   ]
  },
  {
   "cell_type": "code",
   "execution_count": 92,
   "metadata": {},
   "outputs": [],
   "source": [
    "class treeNode:\n",
    "    def __init__(self, nameValue, numOccur, parentNode):\n",
    "        self.name = nameValue\n",
    "        self.count = numOccur\n",
    "        self.nodeLink = None\n",
    "        self.parent = parentNode\n",
    "        self.children = {}\n",
    "        self.tree = ''\n",
    " \n",
    "    def inc(self, numOccur):\n",
    "        self.count += numOccur\n",
    " \n",
    "    def disp(self, ind=0): #ind: indentation\n",
    "        \n",
    "        print('*' * ind, self.name, ':', self.count)\n",
    "        \n",
    "        for child in self.children.values():\n",
    "            child.disp(ind + 1)\n",
    "            \n",
    "    \n",
    "    def stat(self, stat_list: list, ind=0): #ind: indentation\n",
    "        \n",
    "        if self.name != '{null}':\n",
    "            stat_list.append(['*' * ind+self.name, self.count])\n",
    "        \n",
    "        for child in self.children.values():\n",
    "            child.stat(stat_list, ind + 1)\n",
    "\n",
    "        return stat_list"
   ]
  },
  {
   "cell_type": "code",
   "execution_count": 93,
   "metadata": {},
   "outputs": [],
   "source": [
    "def createTree(dataSet, minSup=2):\n",
    "    ''' 创建FP树 '''\n",
    "\n",
    "    headerTable = {}\n",
    "    for trans, count in dataSet.items():\n",
    "        for item in trans:\n",
    "            headerTable[item] = headerTable.get(item, 0) + count\n",
    "\n",
    "    for k in list(headerTable.keys()):\n",
    "        if headerTable[k] < minSup:\n",
    "            del(headerTable[k])\n",
    "    \n",
    "    freqItemSet = set(headerTable.keys())\n",
    "    \n",
    "    if len(freqItemSet) == 0:\n",
    "        return None, None\n",
    "    \n",
    "    for k in headerTable:\n",
    "        headerTable[k] = [headerTable[k], None]\n",
    "        \n",
    "    retTree = treeNode('{null}', 1, None) \n",
    "     \n",
    "    for tranSet, count in dataSet.items(): \n",
    "        for c in range(count): #这一步需要多注意\n",
    "            localD = {}\n",
    "            for item in tranSet: \n",
    "                if item in freqItemSet:\n",
    "                    localD[item] = headerTable[item][0] \n",
    "            if len(localD) > 0:\n",
    "                orderedItems = [v[0] for v in sorted(localD.items(), key=lambda p: p[1], reverse=True)] # 排序\n",
    "                updateTree(orderedItems, retTree, headerTable, 1) # 更新FP树\n",
    "    return retTree, headerTable"
   ]
  },
  {
   "cell_type": "code",
   "execution_count": 94,
   "metadata": {},
   "outputs": [],
   "source": [
    "def updateTree(orderedItems, inTree, headerTable, count):\n",
    "    '''\n",
    "    做的事情：\n",
    "    把排序后列表[p|P]的第一项(p)添加到已有的FP tree上面，分两种情况：\n",
    "        1. 根节点下面已经有p，则根节点下面的p节点计数增加1。\n",
    "        2. 根节点下面没有p，那么在根节点下面创建新节点p。因为新创建该节点，需要更新headerTable中该项的nodeLink.\n",
    "    对剩下的P递归调用上面的过程，直到P为空\n",
    "    '''\n",
    "    if orderedItems[0] in inTree.children:\n",
    "        inTree.children[orderedItems[0]].inc(count)\n",
    "    else:\n",
    "        inTree.children[orderedItems[0]] = treeNode(orderedItems[0], count, inTree)\n",
    "        if headerTable[orderedItems[0]][1] == None:\n",
    "            headerTable[orderedItems[0]][1] = inTree.children[orderedItems[0]]\n",
    "        else:\n",
    "            updateHeader(headerTable[orderedItems[0]][1], inTree.children[orderedItems[0]])\n",
    "            \n",
    "    if len(orderedItems) > 1:\n",
    "        updateTree(orderedItems[1:], inTree.children[orderedItems[0]], headerTable, count)"
   ]
  },
  {
   "cell_type": "code",
   "execution_count": 95,
   "metadata": {},
   "outputs": [],
   "source": [
    "def updateHeader(nodeToUpdate, targetNode):\n",
    "    while (nodeToUpdate.nodeLink != None):\n",
    "        nodeToUpdate = nodeToUpdate.nodeLink\n",
    "    nodeToUpdate.nodeLink = targetNode"
   ]
  },
  {
   "cell_type": "code",
   "execution_count": 96,
   "metadata": {},
   "outputs": [],
   "source": [
    "def loadSimpDat(data):\n",
    "    lines = []\n",
    "    for r in data.iterrows():\n",
    "        lines.append([i for i in r[1].dropna()])\n",
    "    input_data = _pre_process(lines)\n",
    "    return input_data"
   ]
  },
  {
   "cell_type": "code",
   "execution_count": 97,
   "metadata": {},
   "outputs": [],
   "source": [
    "def _pre_process(lines):\n",
    "    input_data = {}\n",
    "    for line in lines:\n",
    "        s = frozenset(line)\n",
    "        input_data[s] = input_data.get(s, 0) + 1\n",
    "    return input_data"
   ]
  },
  {
   "cell_type": "code",
   "execution_count": 98,
   "metadata": {},
   "outputs": [],
   "source": [
    "simpDat = loadSimpDat(data)\n",
    "myTree, myTable = createTree(simpDat, 2)"
   ]
  },
  {
   "cell_type": "code",
   "execution_count": 99,
   "metadata": {},
   "outputs": [],
   "source": [
    "def findPrefixPath(treeNode): #indPrefixPath is also \"find conditional base\"\n",
    "    ''' 创建前缀路径 '''\n",
    "    condPats = {} #条件基是一个字典, key是前缀路基(条件基), value是对应的计数\n",
    "    while treeNode != None:\n",
    "        prefixPath = []\n",
    "        move_to_top_and_record(treeNode, prefixPath)\n",
    "        if len(prefixPath) > 1:\n",
    "            condPats[frozenset(prefixPath[1:])] = treeNode.count\n",
    "        \n",
    "        treeNode = treeNode.nodeLink\n",
    "\n",
    "    return condPats"
   ]
  },
  {
   "cell_type": "code",
   "execution_count": 100,
   "metadata": {},
   "outputs": [],
   "source": [
    "def move_to_top_and_record(leafNode, prefixPath):\n",
    "    if leafNode.parent != None: #当leftNode是根节点(null)时, 路径记录终止,记录不含根节点\n",
    "        prefixPath.append(leafNode.name)\n",
    "        move_to_top_and_record(leafNode.parent, prefixPath)"
   ]
  },
  {
   "cell_type": "code",
   "execution_count": 101,
   "metadata": {},
   "outputs": [],
   "source": [
    "def parse_tree_to_branches(inTree: list):\n",
    "    \n",
    "    tree = [[i[0].count('*') ,i[0].lstrip('*'), i[1]] for i in inTree]\n",
    "    originTree = [[i[0].lstrip('*'), i[1]] for i in inTree]\n",
    "    ct = 0\n",
    "    new_tree = []\n",
    "    for line  in tree:\n",
    "        new_tree.append([ct] + line)\n",
    "        ct += 1\n",
    "    tree = new_tree\n",
    "    \n",
    "    length = len(tree)\n",
    "    \n",
    "    level_to_index_list = {}\n",
    "    \n",
    "    for line in tree:\n",
    "        level_to_index_list.setdefault(line[1], [])\n",
    "        level_to_index_list[line[1]].append(line[0])\n",
    "    \n",
    "    levelDescendList = sorted(level_to_index_list.keys(), reverse=True)\n",
    "    \n",
    "    lenOflDL = len(levelDescendList)\n",
    "    \n",
    "    flat_tree_index = []\n",
    "    \n",
    "    for levelNum in levelDescendList:\n",
    "        for item in level_to_index_list[levelNum]:\n",
    "            branch = [item]\n",
    "            for beforeLevelNum in range(1, levelNum):\n",
    "                localL = []\n",
    "                for beforeItem in level_to_index_list[beforeLevelNum]:\n",
    "                    \n",
    "                    if beforeItem < branch[0]:\n",
    "                        localL.append(beforeItem)                        \n",
    "                branch = [max(localL)] + branch\n",
    "            \n",
    "            if flat_tree_index != []:\n",
    "                flag = True\n",
    "                for testItem in flat_tree_index:\n",
    "                    if  set(branch) <= set(testItem):\n",
    "                        flag = False\n",
    "                if flag:\n",
    "                    flat_tree_index.append(branch)\n",
    "            else:\n",
    "                flat_tree_index.append(branch)\n",
    "    \n",
    "    flat_tree = []\n",
    "    for line in flat_tree_index:\n",
    "        lineL  = []\n",
    "        for item in line:\n",
    "            lineL.append(originTree[item])\n",
    "        flat_tree.append(lineL)\n",
    "        \n",
    "    return flat_tree"
   ]
  },
  {
   "cell_type": "code",
   "execution_count": 102,
   "metadata": {},
   "outputs": [],
   "source": [
    "def mineTree(inTree, headerTable, minSup, preFix):\n",
    "\n",
    "    resultTable = pd.DataFrame(columns=['item', 'CPB', 'Contional FP-tree', 'Frequent Pattern'])\n",
    "\n",
    "    global_L = [item[0] for item in sorted(list(headerTable.items()), key=lambda p: p[1][0])] #注意headerTable的构造\n",
    "    # gloabl_L的排序根据支持度从小到大排序\n",
    "\n",
    "    freqItemDict = {}\n",
    "    \n",
    "    for element in global_L: #1 element\n",
    "        newFreqSet = preFix.copy()\n",
    "        newFreqSet.add(element)\n",
    "        \n",
    "        condPattBases = findPrefixPath(headerTable[element][1]) #2 conditional base\n",
    "\n",
    "        myCondTree, myHead = createTree(condPattBases, minSup) #创建一个条件FP树 #D的格式问题这里需要解决\n",
    "\n",
    "        \n",
    "        if myHead != None: #当element为I2时, myHead为None\n",
    "            s = []\n",
    "            myCondTree.stat(stat_list=s)\n",
    "            flat_tree = parse_tree_to_branches(s)\n",
    "        \n",
    "            FP = {}\n",
    "            for branch in flat_tree: #3. conditional tree\n",
    "                # [['I1', 4], ['I2', 2]] branch\n",
    "                localDict = dict(branch)\n",
    "                baseSet  = set(localDict.keys())\n",
    "                # baseSet = {'I1','I2'}\n",
    "                lenOfbaseSet = len(baseSet)\n",
    "                \n",
    "                for ik in range(1, lenOfbaseSet+1):\n",
    "                    subSets = _findsubsets(baseSet, ik)\n",
    "                    for subSet in subSets:\n",
    "                        fp = frozenset(set(subSet) | set([element]))\n",
    "                        FP[fp] = FP.get(fp, 0) + min([localDict[ifk] for ifk in subSet])           \n",
    "            \n",
    "            freqItemDict[element]  = FP #4. Frequent Pattern\n",
    "\n",
    "            #警告: append非原地操作\n",
    "            resultTable = resultTable.append({'item': element, 'CPB': condPattBases, 'Contional FP-tree':  flat_tree, 'Frequent Pattern': FP}, ignore_index=True)\n",
    "\n",
    "    return freqItemDict, resultTable\n",
    "    "
   ]
  },
  {
   "cell_type": "code",
   "execution_count": 103,
   "metadata": {},
   "outputs": [],
   "source": [
    "def fpGrowth(dataSet, minSup=2):\n",
    "    myFPtree, myHeaderTab = createTree(dataSet, minSup)\n",
    "    freqItemDict, resultTable = mineTree(myFPtree, myHeaderTab, minSup, set([]))\n",
    "    return freqItemDict,resultTable"
   ]
  },
  {
   "cell_type": "code",
   "execution_count": 104,
   "metadata": {
    "scrolled": false
   },
   "outputs": [],
   "source": [
    "dataSet = loadSimpDat(data)\n",
    "freqItems,resultTable = fpGrowth(dataSet)"
   ]
  },
  {
   "cell_type": "code",
   "execution_count": 105,
   "metadata": {},
   "outputs": [
    {
     "data": {
      "text/html": [
       "<div>\n",
       "<style scoped>\n",
       "    .dataframe tbody tr th:only-of-type {\n",
       "        vertical-align: middle;\n",
       "    }\n",
       "\n",
       "    .dataframe tbody tr th {\n",
       "        vertical-align: top;\n",
       "    }\n",
       "\n",
       "    .dataframe thead th {\n",
       "        text-align: right;\n",
       "    }\n",
       "</style>\n",
       "<table border=\"1\" class=\"dataframe\">\n",
       "  <thead>\n",
       "    <tr style=\"text-align: right;\">\n",
       "      <th></th>\n",
       "      <th>item</th>\n",
       "      <th>CPB</th>\n",
       "      <th>Contional FP-tree</th>\n",
       "      <th>Frequent Pattern</th>\n",
       "    </tr>\n",
       "  </thead>\n",
       "  <tbody>\n",
       "    <tr>\n",
       "      <th>0</th>\n",
       "      <td>I5</td>\n",
       "      <td>{('I1', 'I2'): 1, ('I3', 'I1', 'I2'): 1}</td>\n",
       "      <td>[[[I1, 2], [I2, 2]]]</td>\n",
       "      <td>{('I1', 'I5'): 2, ('I5', 'I2'): 2, ('I1', 'I5', 'I2'): 2}</td>\n",
       "    </tr>\n",
       "    <tr>\n",
       "      <th>1</th>\n",
       "      <td>I4</td>\n",
       "      <td>{('I2'): 1, ('I1', 'I2'): 1}</td>\n",
       "      <td>[[[I2, 2]]]</td>\n",
       "      <td>{('I2', 'I4'): 2}</td>\n",
       "    </tr>\n",
       "    <tr>\n",
       "      <th>2</th>\n",
       "      <td>I1</td>\n",
       "      <td>{('I2'): 2, ('I3'): 2, ('I3', 'I2'): 2}</td>\n",
       "      <td>[[[I3, 4], [I2, 2]], [[I2, 2]]]</td>\n",
       "      <td>{('I3', 'I1'): 4, ('I1', 'I2'): 4, ('I3', 'I1', 'I2'): 2}</td>\n",
       "    </tr>\n",
       "    <tr>\n",
       "      <th>3</th>\n",
       "      <td>I3</td>\n",
       "      <td>{('I2'): 4}</td>\n",
       "      <td>[[[I2, 4]]]</td>\n",
       "      <td>{('I3', 'I2'): 4}</td>\n",
       "    </tr>\n",
       "  </tbody>\n",
       "</table>\n",
       "</div>"
      ],
      "text/plain": [
       "  item                                       CPB  \\\n",
       "0   I5  {('I1', 'I2'): 1, ('I3', 'I1', 'I2'): 1}   \n",
       "1   I4              {('I2'): 1, ('I1', 'I2'): 1}   \n",
       "2   I1   {('I2'): 2, ('I3'): 2, ('I3', 'I2'): 2}   \n",
       "3   I3                               {('I2'): 4}   \n",
       "\n",
       "                 Contional FP-tree  \\\n",
       "0             [[[I1, 2], [I2, 2]]]   \n",
       "1                      [[[I2, 2]]]   \n",
       "2  [[[I3, 4], [I2, 2]], [[I2, 2]]]   \n",
       "3                      [[[I2, 4]]]   \n",
       "\n",
       "                                            Frequent Pattern  \n",
       "0  {('I1', 'I5'): 2, ('I5', 'I2'): 2, ('I1', 'I5', 'I2'): 2}  \n",
       "1                                          {('I2', 'I4'): 2}  \n",
       "2  {('I3', 'I1'): 4, ('I1', 'I2'): 4, ('I3', 'I1', 'I2'): 2}  \n",
       "3                                          {('I3', 'I2'): 4}  "
      ]
     },
     "execution_count": 105,
     "metadata": {},
     "output_type": "execute_result"
    }
   ],
   "source": [
    "resultTable"
   ]
  },
  {
   "cell_type": "code",
   "execution_count": 106,
   "metadata": {},
   "outputs": [],
   "source": [
    "from pprint import pformat"
   ]
  },
  {
   "cell_type": "code",
   "execution_count": 107,
   "metadata": {
    "scrolled": false
   },
   "outputs": [
    {
     "name": "stdout",
     "output_type": "stream",
     "text": [
      "{'I1': {frozenset({'I3', 'I1'}): 4,\n",
      "        frozenset({'I1', 'I2'}): 4,\n",
      "        frozenset({'I3', 'I1', 'I2'}): 2},\n",
      " 'I3': {frozenset({'I3', 'I2'}): 4},\n",
      " 'I4': {frozenset({'I2', 'I4'}): 2},\n",
      " 'I5': {frozenset({'I1', 'I5'}): 2,\n",
      "        frozenset({'I5', 'I2'}): 2,\n",
      "        frozenset({'I1', 'I5', 'I2'}): 2}}\n"
     ]
    }
   ],
   "source": [
    "print(pformat(freqItems))"
   ]
  },
  {
   "cell_type": "markdown",
   "metadata": {},
   "source": [
    "#### Implementation end\n",
    "\n",
    "------------"
   ]
  }
 ],
 "metadata": {
  "kernelspec": {
   "display_name": "Python 3",
   "language": "python",
   "name": "python3"
  },
  "language_info": {
   "codemirror_mode": {
    "name": "ipython",
    "version": 3
   },
   "file_extension": ".py",
   "mimetype": "text/x-python",
   "name": "python",
   "nbconvert_exporter": "python",
   "pygments_lexer": "ipython3",
   "version": "3.6.4"
  },
  "toc": {
   "base_numbering": 1,
   "nav_menu": {},
   "number_sections": false,
   "sideBar": true,
   "skip_h1_title": false,
   "title_cell": "Table of Contents",
   "title_sidebar": "Contents",
   "toc_cell": false,
   "toc_position": {
    "height": "calc(100% - 180px)",
    "left": "10px",
    "top": "150px",
    "width": "165px"
   },
   "toc_section_display": true,
   "toc_window_display": true
  }
 },
 "nbformat": 4,
 "nbformat_minor": 2
}
